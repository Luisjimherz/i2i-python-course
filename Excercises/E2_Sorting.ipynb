{
 "cells": [
  {
   "cell_type": "markdown",
   "metadata": {},
   "source": [
    "# 1.2 The bubble sort\n",
    "\n",
    "Ahora jugaremos un poco con listas y sus elementos. Lo primero que harás será inspeccionar visualmente los elementos de la lista que se define a continuación:"
   ]
  },
  {
   "cell_type": "code",
   "execution_count": 15,
   "metadata": {},
   "outputs": [],
   "source": [
    "my_sequence = [3, 6, 8, 1, 9, 2, 5, 7 , 4, 0]"
   ]
  },
  {
   "cell_type": "markdown",
   "metadata": {},
   "source": [
    "Tu primer tarea será ivertir el orden de los elementos de la lista `my_sequence`, la manera más sencilla de hacerlo será recordando lo que has aprendido sobre indexación de listas y asignación "
   ]
  },
  {
   "cell_type": "code",
   "execution_count": 22,
   "metadata": {},
   "outputs": [
    {
     "name": "stdout",
     "output_type": "stream",
     "text": [
      "[0, 4, 7, 5, 2, 9, 1, 8, 6, 3]\n"
     ]
    }
   ],
   "source": [
    "for i in range(len(my_sequence) // 2):\n",
    "    my_sequence[i], my_sequence[-(i + 1)] = my_sequence[-(i+1)], my_sequence[i] \n",
    "print(my_sequence)"
   ]
  },
  {
   "cell_type": "markdown",
   "metadata": {},
   "source": [
    "Ahora que eres capaza de hacer esto, analizaremos un problema muy interesante al momento de trabajar con listas, especialmmente listas numéricas. Vamos a ordenar sus resultados, primero analiza la definición de la lista que se muestra a continuación, puedes suponer que hace?"
   ]
  },
  {
   "cell_type": "code",
   "execution_count": 36,
   "metadata": {},
   "outputs": [],
   "source": [
    "import random\n",
    "random.seed(100)\n",
    "my_list = random.sample(range(100000), 10) "
   ]
  },
  {
   "cell_type": "code",
   "execution_count": 37,
   "metadata": {},
   "outputs": [
    {
     "name": "stdout",
     "output_type": "stream",
     "text": [
      "[19093, 60231, 59628, 22904, 92473, 51515, 95939, 45840, 56821, 66435]\n"
     ]
    }
   ],
   "source": [
    "print(my_list)"
   ]
  },
  {
   "cell_type": "markdown",
   "metadata": {},
   "source": [
    "Recuerda que la instrucción `import`sirve para llamar módulos, clases y funciones definifos en ciertas paqueterías que no estan incluidos por defecto en python. En nuestro caso llamámos la librería random con muchos modulos útiles para generar numeros o secuencias aleatorias. Revisaremos estas funciones con más calma más adelante.\n",
    "\n",
    "Tu tarea ahora será implementae un algoritmo que ordene los elementos de la lista `my_list` en forma ascendente. Esta es una tarea compleja, así que trabajarás un algoritmo sencillo de entender e implementar, aunque no es muy eficiente.\n",
    "\n",
    "#### \"The bubble sort algortihm\"\n",
    "\n",
    "1. Compara el primer y el segundo elemento de la lista.\n",
    "2. Únicamente si estan en el orden equivocado, intercambialos de lugar.\n",
    "3. Repite el proceso anterior hasta que acabes con todos los elementos de la lista. "
   ]
  },
  {
   "cell_type": "code",
   "execution_count": 39,
   "metadata": {},
   "outputs": [
    {
     "name": "stdout",
     "output_type": "stream",
     "text": [
      "[19093, 22904, 59628, 51515, 60231, 45840, 56821, 66435, 92473, 95939]\n"
     ]
    }
   ],
   "source": [
    "for i in range( len(my_list) - 1 ):\n",
    "    if my_list[i] > my_list[i + 1]:\n",
    "        my_list[i], my_list[i + 1] = my_list[i + 1], my_list[i]\n",
    "print(my_list)"
   ]
  }
 ],
 "metadata": {
  "kernelspec": {
   "display_name": "Python 3",
   "language": "python",
   "name": "python3"
  },
  "language_info": {
   "codemirror_mode": {
    "name": "ipython",
    "version": 3
   },
   "file_extension": ".py",
   "mimetype": "text/x-python",
   "name": "python",
   "nbconvert_exporter": "python",
   "pygments_lexer": "ipython3",
   "version": "3.8.3"
  }
 },
 "nbformat": 4,
 "nbformat_minor": 4
}
