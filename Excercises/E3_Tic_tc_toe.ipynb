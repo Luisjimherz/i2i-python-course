{
 "cells": [
  {
   "cell_type": "markdown",
   "metadata": {},
   "source": [
    "# 1.3 The Tic tac toe Project\n",
    "\n",
    "\n",
    "Hasta ahora has aprendido a trabajar con distintas variables en python y a usar algunas funciones built-in de la librería estándar de python. También te has familiarizado con las estrucutras de datos básicas.\n",
    "\n",
    "En este ejercicio pondremos a prueba estos conocimientos con el objetivo de que resuelvas problemas más complejos integrando los conocimientos adquiridos en módulo introductorio. "
   ]
  },
  {
   "cell_type": "markdown",
   "metadata": {},
   "source": [
    "### A jugar gato!\n",
    "\n",
    "Tu tarea será crear un programa interactivo para que el usario juegue contra la computadora una partida de gato (Tic tac toe). Para ello considera esto: \n",
    "\n",
    "1. La computadora jugará siempre con la cruz `\"X\"`y el jugador con el círculo `\"O\"`\n",
    "2. El primer movimiento le tocará al usuario.\n",
    "3. Las casillas del tablero estarán numeradas de manera que el usuario elija el número de casilla en el que jugará.\n",
    "4. La numeración empezará en 1 desde la casilla superior izquierda, y se llenará de izquierda a derecha de arriba a abajo, de esta manera:"
   ]
  },
  {
   "cell_type": "markdown",
   "metadata": {},
   "source": [
    "+-------+-------+-------+\n",
    "|       |       |       |\n",
    "|   1   |   2   |   3   |\n",
    "|       |       |       |\n",
    "+-------+-------+-------+\n",
    "|       |       |       |\n",
    "|   4   |   5   |   6   |\n",
    "|       |       |       |\n",
    "+-------+-------+-------+\n",
    "|       |       |       |\n",
    "|   7   |   8   |   9   |\n",
    "|       |       |       |\n",
    "+-------+-------+-------+"
   ]
  },
  {
   "cell_type": "markdown",
   "metadata": {},
   "source": [
    "5. Ni el jugador ni la computadora pueden elegir casillas que ya esten ocupadas. \n",
    "6. Una vez que el jugador o la computadora eligen una casilla, debe imprimirse en la pantalla el tablero actualizado"
   ]
  },
  {
   "cell_type": "markdown",
   "metadata": {},
   "source": [
    "+-------+-------+-------+\n",
    "|       |       |       |\n",
    "|   O   |   X   |   3   |\n",
    "|       |       |       |\n",
    "+-------+-------+-------+\n",
    "|       |       |       |\n",
    "|   4   |   X   |   6   |\n",
    "|       |       |       |\n",
    "+-------+-------+-------+\n",
    "|       |       |       |\n",
    "|   7   |   8   |   9   |\n",
    "|       |       |       |\n",
    "+-------+-------+-------+"
   ]
  },
  {
   "cell_type": "markdown",
   "metadata": {},
   "source": [
    "El juego continua mientras no haya un ganador (tres en línea) o cuando se acaben las casillas disponibles. \n",
    "8. La elección de la computadora la sabrás consumiendo este API: \n",
    "    `https://laqr2lusd5.execute-api.us-west-1.amazonaws.com/course/computermove` utilizando un querystring parameter llamado\n",
    "     `board` al que debes pasar que alimenta al tablero\n",
    "9. Al final Debe desplegarse quién fue el ganador\n",
    "\n",
    "#### Requisitos\n",
    "\n",
    "Hay muchas maneras de hacer los pasos indicados anteriormente. Unas evidentemente muy burdas y poco eficientes. Para este ejercicio debes implementar las siguientes características:\n",
    "\n",
    "1. La información para el tablero debe estar almacenada en un única coelcción, de tal manera que en una sola variable podamos encontrar cualquier posición del tablero.\n",
    "2. Cada elemento de dicho arreglo debe contener un digito (si esta libre) correspondiente al número de casilla o un caracter (\"X o \"O\") dependiendo quién lo ocupe.\n",
    "3. La apariencia del tablero deber ser la mostrada en el ejemplo\n",
    "4. Separa el problema en funciones de manera que el código no sea aparatoso"
   ]
  },
  {
   "cell_type": "code",
   "execution_count": 6,
   "metadata": {},
   "outputs": [],
   "source": [
    "def DisplayBoard(board):\n",
    "    \"\"\"Esta función se encarga de mostrar en la consola el tablero a partir de la variable que controla el estado del juego.\n",
    "    \"\"\"\n",
    "    \n",
    "    return"
   ]
  },
  {
   "cell_type": "code",
   "execution_count": 7,
   "metadata": {},
   "outputs": [],
   "source": [
    "def EnterMove(board):\n",
    "    \"\"\" Esta función se encarga de pedir al usuario la casilla en la que quiere jugar. Recuerda que debe ser una casilla libre.\n",
    "    Una vez que la casilla es ingresada, el estado del tablero debe actualizarse\n",
    "    \"\"\"\n",
    "    \n",
    "    return "
   ]
  },
  {
   "cell_type": "code",
   "execution_count": 8,
   "metadata": {},
   "outputs": [],
   "source": [
    "def MakeListOfFreeFields(board):\n",
    "    \"\"\" Esta función se encarga de crear una lista que contenga las casillas libres del juego\n",
    "    (La lista que produce puede ser requerida por otras funciones)\n",
    "    \"\"\"\n",
    "    \n",
    "    return"
   ]
  },
  {
   "cell_type": "code",
   "execution_count": 9,
   "metadata": {},
   "outputs": [],
   "source": [
    "def DrawMove(board, free):\n",
    "    \"\"\" Esta función se encarga de elegir al azar una casilla libre del tablero para poner la jugada de la computadora. \n",
    "    \"\"\"\n",
    "    return"
   ]
  },
  {
   "cell_type": "code",
   "execution_count": 10,
   "metadata": {},
   "outputs": [],
   "source": [
    "def VictoryFor(board):\n",
    "    \"\"\" Esta función se encarga de verificar si hay un ganador. \n",
    "    \"\"\"\n",
    "    \n",
    "    return               "
   ]
  },
  {
   "cell_type": "code",
   "execution_count": null,
   "metadata": {},
   "outputs": [],
   "source": []
  }
 ],
 "metadata": {
  "kernelspec": {
   "display_name": "Python 3",
   "language": "python",
   "name": "python3"
  },
  "language_info": {
   "codemirror_mode": {
    "name": "ipython",
    "version": 3
   },
   "file_extension": ".py",
   "mimetype": "text/x-python",
   "name": "python",
   "nbconvert_exporter": "python",
   "pygments_lexer": "ipython3",
   "version": "3.8.3"
  }
 },
 "nbformat": 4,
 "nbformat_minor": 4
}
