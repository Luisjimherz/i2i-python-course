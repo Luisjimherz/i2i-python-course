{
 "cells": [
  {
   "cell_type": "markdown",
   "metadata": {},
   "source": [
    "# Lineal vs binary Search\n",
    "\n",
    "Ahora vamos a practicar implementando dos algoritmos sencillos para buscar elementos dentro de una lista.\n",
    "\n",
    "\n",
    "### Búsqueda lineal\n",
    "La búsqueda lineal es un algoritmo muy sencillo de entender y de implmentar para encontrar elementos en una lista:\n",
    "\n",
    "1. Define una función que reciba una lista y un posible elemento de la misma\n",
    "2. Revisa elemento por elemento hasta encontrar el índice de el primer item de la lista que corresponda con el valor buscado\n",
    "3. Devuelve True si el elemento se encuentra en la lista o False si no lo hace"
   ]
  },
  {
   "cell_type": "code",
   "execution_count": null,
   "metadata": {},
   "outputs": [],
   "source": []
  },
  {
   "cell_type": "markdown",
   "metadata": {},
   "source": [
    "### Búsqueda Binaria\n",
    "\n",
    "La búsqueda lineal, como podrás observar, no es un método eficiente, en especial con listas de longitudes grandes. Puedes implementar una búsqueda binaria para saber si el elemento se encuentra en la lista. La busqueda binaria es un algoritmo que funciona especialmente bien para buscar datos numéricos en una lista ordenada:\n",
    "para eso debes:\n",
    "\n",
    "1. Recibir una lista que pueda o no estar desordenada\n",
    "2. Comparar la valor central de los elementos de la lista con el valor que estás buscando\n",
    "3. Si el valor corresponde entonces termina la busqueda y devuelves True\n",
    "4. Si el valor no corresponde, Repites el procedimiento utilizando sublistas derivadas de la comparación anterior\n"
   ]
  },
  {
   "cell_type": "code",
   "execution_count": null,
   "metadata": {},
   "outputs": [],
   "source": []
  },
  {
   "cell_type": "markdown",
   "metadata": {},
   "source": [
    "### Retos:\n",
    "\n",
    "1. Intenta ahora devolver el índice donde se encuentra en la lista original"
   ]
  }
 ],
 "metadata": {
  "kernelspec": {
   "display_name": "Python 3",
   "language": "python",
   "name": "python3"
  },
  "language_info": {
   "codemirror_mode": {
    "name": "ipython",
    "version": 3
   },
   "file_extension": ".py",
   "mimetype": "text/x-python",
   "name": "python",
   "nbconvert_exporter": "python",
   "pygments_lexer": "ipython3",
   "version": "3.8.3"
  }
 },
 "nbformat": 4,
 "nbformat_minor": 4
}
