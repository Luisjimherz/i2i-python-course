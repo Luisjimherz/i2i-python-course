{
 "cells": [
  {
   "cell_type": "markdown",
   "metadata": {},
   "source": [
    "# 1.4 Module.py\n",
    "\n",
    "#### NIVEL: Intermedio\n",
    "\n",
    "Hasta ahora has aprendido los conocimientos básicos de programación en Python y has profundizado un poco en la estructura en que se componen los entornos de Python, y como es que estos se relacionan para importar funciones desde modulos que no pertenecen al sistema base de Python.\n",
    "\n",
    "En este ejercicio, pondrás en práctica esos conocimientos para crear tu propio modulo. \n",
    "\n",
    "Una observación importante es que Jupyter notebook no es el entorno adecuado para escribir un script. Así que tendrás que escribir tu modulo en Spyder. "
   ]
  },
  {
   "cell_type": "markdown",
   "metadata": {},
   "source": [
    "### Crea los archivos necesarios\n",
    "\n",
    "Para que Python reconozca un script como módulo se necesita que el script este guardado en un directorio donde Python pueda encontrarlo. Por ahora bastará con que lo guardes en el directorio relativo a este notebook.\n",
    "\n",
    "1. Crea un archivo en Spyder llamado \"my_module.py\"\n",
    "2. Asegúrate que el archivo este guardado en el mismo directorio.\n",
    "3. Ejecuta la siguiente celda"
   ]
  },
  {
   "cell_type": "code",
   "execution_count": null,
   "metadata": {},
   "outputs": [],
   "source": [
    "# El nombre del módulo es el mismo que el nombre del archivo\n",
    "import my_module"
   ]
  },
  {
   "attachments": {
    "like_to_be_a_module.PNG": {
     "image/png": "[encoded data removed]"
    }
   },
   "cell_type": "markdown",
   "metadata": {},
   "source": [
    "Si seguiste las intrucciones adecuadamente, no debió habber ningún error al momento de ejecutar la celda anterior. \n",
    "\n",
    "Ahora fijáte en el directorio donde tienes almacenados estos archivos. Nota que se ha creado una carpeta nueva llamada \\_pycache\\_. Dentro de ella debe haber un archivo llamado \"my_module.interpreter-xy.pyc\" donde interpreter esta sustituido por el intérprete que estés utilizndo para trabajar Python (muy probablmente \"cpython\") y xy corresponde con la versión de Python que estás utilizando.\n",
    "\n",
    "En mi caso el archivo aparece como \"my_module.cpython-37.pyc\"\n",
    "\n",
    "### Haz que tu modulo sea funcional\n",
    "\n",
    "A pesar de que logramos importar exitósamente el modulo, en realidad este no hace nada porque el script esta vacío. \n",
    "\n",
    "4. Edita el archivo \"my_module.py\" para que incluya la línea: `print(\"I like to be a module\")`\n",
    "5. Guarda los cambios realizados. (No ejecutes el script)\n",
    "6. Abre un nuevo script, importa tu modulo y observa la consola.\n",
    "\n",
    "Al modificar modulos debes tener muy encuenta lo siguiente: Guardar los cambios en el script no siempre es suficiente para que el modulo se actualice, es necesario que ejecutes el script.  \n",
    "\n",
    "![like_to_be_a_module.PNG](attachment:like_to_be_a_module.PNG)\n",
    "\n",
    "En rojo te indica que el modulo my_module debe volverse a ejecutar para que se actualicen los cambios realizados. Algunas funciones podrían verse comprometidas dependiendo de como haya estado creada la versión anterior. \n",
    "\n",
    "7. Ejecuta el modulo, y después el script de prueba.\n",
    "\n",
    "Con el simple hecho de importarlo, la consola desplegará el mensaje que introducimos en el modulo. Cuando importamos un modulo Python ejecuta implícitamente su contenido, incluyendo las asignaciones de vriables, definiciones de objetos y funciones etc...\n",
    "\n",
    "8. Añade la siguiente línea al código de my_module y actualizalo. ¿Qué hace? : `print(__name__)`\n",
    "9. Ejecuta de nuevo el script prueba. ¿Hay diferencias en la salida?\n",
    "\n",
    "Aunque no definimos la variable \"\\_\\_name\\_\\_\" Python la crea automáticamente al ejecutar un script. Nota que al utilizar esa variabe en un script automática recibe el nombre \"\\_\\_main\\_\\_\" pero al importarla la cambió a \"my_module\". De esta manera Python asigna el nombre con el que podremos llamar a los objetos que se encuentran en my_module.\n",
    "\n",
    "Esa asignación es independiente para cada archivo. Puedes probar añadiendo la línea `print(__name__)`en el scropt de prueba. y notarás que primero te devuelve el nombre del módulo y despues el nombre main.  Así podemos identificar en que contexto esta almacenado el objeto. \n",
    "\n",
    "10. Reemplaza las líneas de código en \"my_module\" por la siguiente:"
   ]
  },
  {
   "cell_type": "code",
   "execution_count": null,
   "metadata": {},
   "outputs": [],
   "source": [
    "if __name__ == \"__main__\":\n",
    "    print(\"I prefer to be a module\")\n",
    "else:\n",
    "    print(\"I like to be a module\")"
   ]
  },
  {
   "cell_type": "markdown",
   "metadata": {},
   "source": [
    "Con la instrucción anterior podemos saber si la salida proviene del contexto global de Python o del de un modulo.\n",
    "\n",
    "11. Ahora añade una variable contador al modulo. Más adelante la usaremos para saber cuantas veces se ha invocado una función de my_module.\n",
    "\n",
    "Definir variables en el modulo es posible, estas variables estarán disponibles para ser usadas por el usuario una vez que importe el módulo, pero como cualquier variable (excepto por las tuplas) es una variable mutable. Es una convención que para indicar al usuario que no modifique una variable, le precedan uno o dos guiones bajos, como la variable \"\\_\\_name\\_\\_\" pero es solo una convención. No limita al usuario de hacerlo, así que no es del todo seguro. "
   ]
  },
  {
   "cell_type": "markdown",
   "metadata": {},
   "source": [
    "12. Susituye el contenido de tu modulo por el siguiente: ¿Qué notas? ¿Qué crees que pase?"
   ]
  },
  {
   "cell_type": "code",
   "execution_count": null,
   "metadata": {},
   "outputs": [],
   "source": [
    "#!/usr/bin/env python3 \n",
    "\n",
    "\"\"\" module.py - an example of Python module \"\"\"\n",
    "\n",
    "_counter = 0\n",
    "\n",
    "def suml(list):\n",
    "    global _counter\n",
    "    _counter += 1\n",
    "    sum = 0\n",
    "    for el in list:\n",
    "        sum += el\n",
    "    return sum\n",
    "\n",
    "def prodl(list):\n",
    "    global _counter\n",
    "    _counter += 1\n",
    "    prod = 1\n",
    "    for el in list:\n",
    "        prod *= el\n",
    "    return prod\n",
    "\n",
    "# Esta parte del código sirve para probar que las funciones definidas funcionan como es debido, pero solo corre cuando el modulo es ejecutado como script.\n",
    "\n",
    "if __name__ == \"__main__\":\n",
    "    print(\"I prefer to be a module, but I can do some tests for you\")\n",
    "    l = [i+1 for i in range(5)]\n",
    "    print(suml(l) == 15)\n",
    "    print(prodl(l) == 120)"
   ]
  },
  {
   "cell_type": "markdown",
   "metadata": {},
   "source": [
    "_**Nota:**_ Incluye esta línea `#!/usr/bin/env python3`, no hace nada en apariencia porque es un simple comentario, pero en algunas plataformas  le indica al sistema operativo como ejecutar el contenido del archivo. Algunos entornos, especialmente los basados en web como jupyter, pueden tener problemas para importar modulos que no contengan dicha linea. \n",
    "\n",
    "Prueba la siguiente celda:"
   ]
  },
  {
   "cell_type": "code",
   "execution_count": null,
   "metadata": {},
   "outputs": [],
   "source": [
    "import my_module\n",
    "my_module._counter += 1\n",
    "print(my_module._counter)"
   ]
  },
  {
   "cell_type": "markdown",
   "metadata": {},
   "source": [
    "La variable counter fue pensada en ser un contador de cuantas veces se invoca una función de my_module, pero como puedes ver, puede ser modificada por el usuario. Prueba que puedas usar tus funciones:"
   ]
  },
  {
   "cell_type": "code",
   "execution_count": null,
   "metadata": {},
   "outputs": [],
   "source": [
    "from my_module import suml, prodl"
   ]
  },
  {
   "cell_type": "code",
   "execution_count": null,
   "metadata": {},
   "outputs": [],
   "source": [
    "# Crea una lista de 5 elementos 0\n",
    "zeroes = [0 for i in range(5)]\n",
    "ones = [1 for i in range(5)]\n",
    "print(suml(zeroes), prodl(ones))"
   ]
  },
  {
   "cell_type": "markdown",
   "metadata": {},
   "source": [
    "### Cambia la ubicación de tu modulo\n",
    "\n",
    "Hasta ahora funciona todo bien. Prueba moviendo el archivo my_module.py a otro directorio y trata de ejecutar la celda siguiente."
   ]
  },
  {
   "cell_type": "code",
   "execution_count": 5,
   "metadata": {},
   "outputs": [
    {
     "name": "stdout",
     "output_type": "stream",
     "text": [
      "0 1\n"
     ]
    }
   ],
   "source": [
    "# Para este ejemplo es necesario que reinicies el kernel\n",
    "import my_module as mm\n",
    "\n",
    "zeroes = [0 for i in range(5)]\n",
    "ones = [1 for i in range(5)]\n",
    "print(mm.suml(zeroes), mm.prodl(ones))"
   ]
  },
  {
   "cell_type": "markdown",
   "metadata": {},
   "source": [
    "La razón del error es que esta vez Python no pudo encontrar el archivo my_module.python. \n",
    "\n",
    "Te preguntarás, ¿Entonces como es que python importa modulos estándar?.\n",
    "La respuesta es la manera en la que Python busca los modulos. Existe una variable (que es una lista) donde se guardan los directorios en los que Python busca a los modulos. \n",
    "\n",
    "Python busca estos directorios en el orden en que aparecen en dicha variable y si no lo encuentra en ninguno, entonces devuelve el error. De otro modoel primer directorio donde encuentre el modulo detendrá la búsqueda y se usará ese modulo. \n",
    "\n",
    "La variable en cuestión es `path`y solo es accesible utilizando el modulo `sys`."
   ]
  },
  {
   "cell_type": "code",
   "execution_count": 2,
   "metadata": {},
   "outputs": [
    {
     "name": "stdout",
     "output_type": "stream",
     "text": [
      "['C:\\\\Users\\\\76054\\\\Desktop\\\\Cursos\\\\2020\\\\Introduccion_Python\\\\Ejercicios', 'C:\\\\Program Files (x86)\\\\PerkinElmerInformatics\\\\ChemOffice2016\\\\ChemScript\\\\Lib', 'C:\\\\Users\\\\76054\\\\anaconda3\\\\python37.zip', 'C:\\\\Users\\\\76054\\\\anaconda3\\\\DLLs', 'C:\\\\Users\\\\76054\\\\anaconda3\\\\lib', 'C:\\\\Users\\\\76054\\\\anaconda3', '', 'C:\\\\Users\\\\76054\\\\anaconda3\\\\lib\\\\site-packages', 'C:\\\\Users\\\\76054\\\\anaconda3\\\\lib\\\\site-packages\\\\win32', 'C:\\\\Users\\\\76054\\\\anaconda3\\\\lib\\\\site-packages\\\\win32\\\\lib', 'C:\\\\Users\\\\76054\\\\anaconda3\\\\lib\\\\site-packages\\\\Pythonwin', 'C:\\\\Users\\\\76054\\\\anaconda3\\\\lib\\\\site-packages\\\\IPython\\\\extensions', 'C:\\\\Users\\\\76054\\\\.ipython']\n"
     ]
    }
   ],
   "source": [
    "from sys import path\n",
    "print(path)"
   ]
  },
  {
   "cell_type": "markdown",
   "metadata": {},
   "source": [
    "Nota que el primer folder en el que Python busca es el directorio relativo al archivo en el que estamos trabajando. \n",
    "\n",
    "Para encontrar tu modulo podrías guardarlo en cualquier directorio incluido en `path`o bien, añadir uno nuevo. \n",
    "\n",
    "Si vas a hacer la primer opción , el directorio más recomendado es : `'C:\\Users\\76054\\anaconda3\\lib\\site-packages'`. Que en la estrucutra de contextos de Python, es el directorio que fue pensado para almacenar modulos externos\n",
    "\n",
    "De cualquier modo, es aún más recomendable crear un nuevo directorio donde almacenes exclusivamente los modulos que tu crees.\n",
    "\n",
    "13. Accede al directorio anterior y crea una carpeta llamada \"my_modules\"\n",
    "14. Mueve el archivo my_module.py a ese directorio\n",
    "15. Añade el directorio a la variable `path`\n",
    "16. Verifica que la variable path contenga al directorio\n",
    "17. Vuelve a ejecutar la celda anterior. "
   ]
  },
  {
   "cell_type": "code",
   "execution_count": 3,
   "metadata": {},
   "outputs": [],
   "source": [
    "path.append('C:\\\\Users\\\\76054\\\\anaconda3\\\\lib\\\\site-packages\\\\my_modules')"
   ]
  },
  {
   "cell_type": "code",
   "execution_count": 4,
   "metadata": {},
   "outputs": [
    {
     "data": {
      "text/plain": [
       "['C:\\\\Users\\\\76054\\\\Desktop\\\\Cursos\\\\2020\\\\Introduccion_Python\\\\Ejercicios',\n",
       " 'C:\\\\Program Files (x86)\\\\PerkinElmerInformatics\\\\ChemOffice2016\\\\ChemScript\\\\Lib',\n",
       " 'C:\\\\Users\\\\76054\\\\anaconda3\\\\python37.zip',\n",
       " 'C:\\\\Users\\\\76054\\\\anaconda3\\\\DLLs',\n",
       " 'C:\\\\Users\\\\76054\\\\anaconda3\\\\lib',\n",
       " 'C:\\\\Users\\\\76054\\\\anaconda3',\n",
       " '',\n",
       " 'C:\\\\Users\\\\76054\\\\anaconda3\\\\lib\\\\site-packages',\n",
       " 'C:\\\\Users\\\\76054\\\\anaconda3\\\\lib\\\\site-packages\\\\win32',\n",
       " 'C:\\\\Users\\\\76054\\\\anaconda3\\\\lib\\\\site-packages\\\\win32\\\\lib',\n",
       " 'C:\\\\Users\\\\76054\\\\anaconda3\\\\lib\\\\site-packages\\\\Pythonwin',\n",
       " 'C:\\\\Users\\\\76054\\\\anaconda3\\\\lib\\\\site-packages\\\\IPython\\\\extensions',\n",
       " 'C:\\\\Users\\\\76054\\\\.ipython',\n",
       " 'C:\\\\Users\\\\76054\\\\anaconda3\\\\lib\\\\site-packages\\\\my_modules']"
      ]
     },
     "execution_count": 4,
     "metadata": {},
     "output_type": "execute_result"
    }
   ],
   "source": [
    "path"
   ]
  },
  {
   "cell_type": "markdown",
   "metadata": {},
   "source": [
    "## Crea tu paquete\n",
    "\n",
    "Del repositorio de ejercicios, en la carpeta \"extra\" se encuentran los archivos necesarios para este ejercicio: \n",
    "\n",
    "1. Crea el archivo \\_\\_init\\_\\_.py (vacío) en la carpeta raíz.\n",
    "2. Crea el directorio \"\"..\\site-packages\\my_packages\"\n",
    "3. Copia el paquete a ese directorio\n",
    "4. Añade el directorio a la variable `path`\n",
    "5. Importalo"
   ]
  },
  {
   "cell_type": "code",
   "execution_count": 6,
   "metadata": {},
   "outputs": [],
   "source": [
    "path.append('C:\\\\Users\\\\76054\\\\anaconda3\\\\lib\\\\site-packages\\\\my_packages')"
   ]
  },
  {
   "cell_type": "code",
   "execution_count": 13,
   "metadata": {},
   "outputs": [
    {
     "data": {
      "text/plain": [
       "'C:\\\\Users\\\\76054\\\\anaconda3\\\\lib\\\\site-packages\\\\my_packages'"
      ]
     },
     "execution_count": 13,
     "metadata": {},
     "output_type": "execute_result"
    }
   ],
   "source": [
    "path[-1]"
   ]
  },
  {
   "cell_type": "code",
   "execution_count": 23,
   "metadata": {},
   "outputs": [],
   "source": [
    "import extra.iota"
   ]
  },
  {
   "cell_type": "code",
   "execution_count": 24,
   "metadata": {},
   "outputs": [
    {
     "data": {
      "text/plain": [
       "['FunI',\n",
       " '__builtins__',\n",
       " '__cached__',\n",
       " '__doc__',\n",
       " '__file__',\n",
       " '__loader__',\n",
       " '__name__',\n",
       " '__package__',\n",
       " '__spec__']"
      ]
     },
     "execution_count": 24,
     "metadata": {},
     "output_type": "execute_result"
    }
   ],
   "source": [
    "dir(extra.iota)"
   ]
  },
  {
   "cell_type": "code",
   "execution_count": 27,
   "metadata": {},
   "outputs": [
    {
     "name": "stdout",
     "output_type": "stream",
     "text": [
      "Iota\n"
     ]
    }
   ],
   "source": [
    "print( extra.iota.FunI() )"
   ]
  },
  {
   "cell_type": "code",
   "execution_count": 29,
   "metadata": {},
   "outputs": [],
   "source": [
    "import extra.good.best.sigma as sigma\n",
    "from extra.good.best.tau import FunT "
   ]
  },
  {
   "cell_type": "code",
   "execution_count": 32,
   "metadata": {},
   "outputs": [
    {
     "name": "stdout",
     "output_type": "stream",
     "text": [
      "Sigma Tau\n"
     ]
    }
   ],
   "source": [
    "print(sigma.FunS(), FunT())"
   ]
  },
  {
   "cell_type": "markdown",
   "metadata": {},
   "source": [
    "Una de las ventajas de Python, es que puede extraer paqutes y modulos de archivos comprimidos `.zip`.\n",
    "6. Comprime el archivo \"extra\" en un archivo llamado \"extrapack.zip\"\n",
    "7. Muevelo al directorio \"my_packages\"\n",
    "8. Importa un modulo de él"
   ]
  },
  {
   "cell_type": "code",
   "execution_count": 34,
   "metadata": {},
   "outputs": [
    {
     "ename": "ModuleNotFoundError",
     "evalue": "No module named 'extra2'",
     "output_type": "error",
     "traceback": [
      "\u001b[1;31m---------------------------------------------------------------------------\u001b[0m",
      "\u001b[1;31mModuleNotFoundError\u001b[0m                       Traceback (most recent call last)",
      "\u001b[1;32m<ipython-input-34-759f777bd6f1>\u001b[0m in \u001b[0;36m<module>\u001b[1;34m\u001b[0m\n\u001b[1;32m----> 1\u001b[1;33m \u001b[1;32mimport\u001b[0m \u001b[0mextra2\u001b[0m\u001b[1;33m.\u001b[0m\u001b[0mgood\u001b[0m\u001b[1;33m.\u001b[0m\u001b[0mbest\u001b[0m\u001b[1;33m.\u001b[0m\u001b[0msigma\u001b[0m \u001b[1;32mas\u001b[0m \u001b[0msigma\u001b[0m\u001b[1;33m\u001b[0m\u001b[1;33m\u001b[0m\u001b[0m\n\u001b[0m\u001b[0;32m      2\u001b[0m \u001b[0mprint\u001b[0m\u001b[1;33m(\u001b[0m\u001b[0msigma\u001b[0m\u001b[1;33m.\u001b[0m\u001b[0mFunS\u001b[0m\u001b[1;33m(\u001b[0m\u001b[1;33m)\u001b[0m\u001b[1;33m)\u001b[0m\u001b[1;33m\u001b[0m\u001b[1;33m\u001b[0m\u001b[0m\n",
      "\u001b[1;31mModuleNotFoundError\u001b[0m: No module named 'extra2'"
     ]
    }
   ],
   "source": [
    "import extra2.good.best.sigma as sigma\n",
    "print(sigma.FunS())"
   ]
  },
  {
   "cell_type": "code",
   "execution_count": null,
   "metadata": {},
   "outputs": [],
   "source": []
  }
 ],
 "metadata": {
  "kernelspec": {
   "display_name": "Python 3",
   "language": "python",
   "name": "python3"
  },
  "language_info": {
   "codemirror_mode": {
    "name": "ipython",
    "version": 3
   },
   "file_extension": ".py",
   "mimetype": "text/x-python",
   "name": "python",
   "nbconvert_exporter": "python",
   "pygments_lexer": "ipython3",
   "version": "3.7.6"
  }
 },
 "nbformat": 4,
 "nbformat_minor": 4
}
