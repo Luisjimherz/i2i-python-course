{
 "cells": [
  {
   "cell_type": "markdown",
   "metadata": {},
   "source": [
    "# 1.1 Una calculadora muy grande\n",
    "\n",
    "Hasta ahora has aprendido a trabajar con las funciones `print` e `input`. Has aprendido a usar condicionales y también sabes definir funciones en python y a realizar mapeos simples utilizando diccionarios. Estás herramientas son suficientes para crear una calculadora que sea capaz de hacer varios cálculos.\n",
    "\n",
    "### Instrucciones:\n",
    "1. Solicitar al usuario un número\n",
    "2. Solicitar al usuario un segundo número\n",
    "3. Solicitar al usuario una operación binaria a realizar (suma, resta, multiplicacion, division, modulo, potencia a^b)\n",
    "4. Imprimir el resultado de dicha operación\n",
    "\n",
    "Considera que si la entrada del usuario no es un número podría causar errores al momento de realizar algunas operaciones"
   ]
  },
  {
   "cell_type": "code",
   "execution_count": null,
   "metadata": {},
   "outputs": [],
   "source": []
  },
  {
   "cell_type": "markdown",
   "metadata": {},
   "source": [
    "### Retos\n",
    "\n",
    "1. En python no existe una implementación de switch_case (aún). Intenta replicar la función anterior implementando tu propio switch case. \n",
    "2. Implementa la calculadora añadiendo operaciones unarias (potencia cuadrada a^2, potencia cubica a^3, raíz cuadrada) Para esto el usuario solo debe ingresar la cantidad de números necesaria dependiendo de si escogió hacer una operación unaria o binaria"
   ]
  },
  {
   "cell_type": "code",
   "execution_count": null,
   "metadata": {},
   "outputs": [],
   "source": []
  }
 ],
 "metadata": {
  "kernelspec": {
   "display_name": "Python 3",
   "language": "python",
   "name": "python3"
  },
  "language_info": {
   "codemirror_mode": {
    "name": "ipython",
    "version": 3
   },
   "file_extension": ".py",
   "mimetype": "text/x-python",
   "name": "python",
   "nbconvert_exporter": "python",
   "pygments_lexer": "ipython3",
   "version": "3.8.3"
  }
 },
 "nbformat": 4,
 "nbformat_minor": 4
}
