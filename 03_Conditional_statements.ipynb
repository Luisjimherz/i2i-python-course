{
 "cells": [
  {
   "cell_type": "markdown",
   "metadata": {},
   "source": [
    "# 2. Programación con Python\n",
    "\n",
    "<a id=’doc’></a>\n",
    "### Documentación\n",
    "\n",
    "***Documentación oficial de Python:*** https://www.python.org/doc/ \n",
    "\n",
    "### Contenido\n",
    "\n",
    "* Estructuras de control\n",
    "* Definición de funciones, clases y métodos _an overview_\n",
    "* Modulos y librerías _an overview_ \n",
    "* Strings en Python _an overview_\n",
    "\n",
    "### Recursos\n"
   ]
  },
  {
   "cell_type": "markdown",
   "metadata": {},
   "source": [
    "## 2.1 Estructuras de control\n",
    "\n",
    "Una estructura de control ayuda a controlar la ejecución de ciertas rutinas evaluando condiciones lógicas. Se utilizan principalmente en la automatización de procesos iterativos o repetitivos, así como para la ejecución condicional de rutinas. Existen esencialmente dos tipos de estructuras de control:\n",
    "\n",
    "1. Estructuras cíclicas\n",
    "2. Estructuras condicionales \n",
    "\n",
    "A contiuación veremos cuáles son y en que consisten cada una de ellas. Pero antes es necesario introducir el concepto _identación_. \n",
    "\n",
    "La identación sirve para indicarle a Python las subrutinas que serán controladas por estas estructuras y se ve más o menos así:\n",
    "\n",
    "`This line is not identated\n",
    "    this line is identated`\n",
    "    \n",
    "### Estructuras condicionales (`if`, `elif`, `else`)\n",
    "\n",
    "Las estructuras condicionales evaluan expresiones lógicas y ejecutan la subrutina asociada dependiendo del resultado de la expresión. \n",
    "\n",
    "La estructura `if` ejecuta una subrturina si una condición es verdadera:"
   ]
  },
  {
   "cell_type": "code",
   "execution_count": 46,
   "metadata": {},
   "outputs": [],
   "source": [
    "if True: # Prueba ingresando: False, 1, 0, 1, .0, not True, not False, None, [], (), {}\n",
    "    print(\"A true expresion prints this message\")"
   ]
  },
  {
   "cell_type": "code",
   "execution_count": 22,
   "metadata": {},
   "outputs": [
    {
     "name": "stdout",
     "output_type": "stream",
     "text": [
      "10 is equal or smaller than 10\n"
     ]
    }
   ],
   "source": [
    "# Simple expresions\n",
    "x = 10\n",
    "if x<= 10:\n",
    "    print(x, \"is equal or smaller than 10\")"
   ]
  },
  {
   "cell_type": "code",
   "execution_count": 23,
   "metadata": {},
   "outputs": [
    {
     "name": "stdout",
     "output_type": "stream",
     "text": [
      "Either 10 is greater than 10 or 5 is different than 10\n"
     ]
    }
   ],
   "source": [
    "# Complex expressions\n",
    "y = 5\n",
    "if x > 10 or y != 10:\n",
    "    print(\"Either\", x, \"is greater than 10 or\", y, \"is different than 10\" )"
   ]
  },
  {
   "cell_type": "code",
   "execution_count": 40,
   "metadata": {},
   "outputs": [
    {
     "name": "stdout",
     "output_type": "stream",
     "text": [
      "Either 10 is greater than 10 or 5 is different than 5 or chocolate  is chocolate\n"
     ]
    }
   ],
   "source": [
    "# Other logiacal operators:\n",
    "z = \"chocolate\"\n",
    "if (x > 10) or (y != 5) or (z is \"chocolate\"):\n",
    "    print(\"Either\", x, \"is greater than 10 or\", y, \"is different than 5 or\", z, \" is chocolate\" )"
   ]
  },
  {
   "cell_type": "markdown",
   "metadata": {},
   "source": [
    "Las instrucciones `else`y `elif` sirve para agregar condiciones adicionales que ejecutan otras subrutinas en caso que la anterior haya sido falsa:"
   ]
  },
  {
   "cell_type": "code",
   "execution_count": 59,
   "metadata": {},
   "outputs": [
    {
     "name": "stdout",
     "output_type": "stream",
     "text": [
      "The else instruction is excuted when no other explicit condition was True\n"
     ]
    }
   ],
   "source": [
    "if []:\n",
    "    print(\"An empty sequence counts for a False value\")\n",
    "elif None:\n",
    "    print(\"None counts for a False value\")\n",
    "else:\n",
    "    print(\"The else instruction is excuted when no other explicit condition was True\")"
   ]
  },
  {
   "cell_type": "code",
   "execution_count": 62,
   "metadata": {},
   "outputs": [
    {
     "name": "stdout",
     "output_type": "stream",
     "text": [
      "4 3 2\n"
     ]
    }
   ],
   "source": [
    "# Re-ordening numbers, can you guess the output?\n",
    "\n",
    "x, y, z = 2, 4, 3\n",
    "\n",
    "if x < y:\n",
    "    z, x, y = x, y, z\n",
    "elif x > y:\n",
    "    z, x, y = y, z, x\n",
    "else: \n",
    "    z, x, y = x, z, y\n",
    "\n",
    "print(x, y, z)"
   ]
  },
  {
   "cell_type": "code",
   "execution_count": 65,
   "metadata": {},
   "outputs": [
    {
     "name": "stdout",
     "output_type": "stream",
     "text": [
      "Character is contained in my_string\n"
     ]
    }
   ],
   "source": [
    "# Testing sequences\n",
    "my_list = [1, 2, 3, 4, 5]\n",
    "my_string = \"apple\"\n",
    "\n",
    "if 'a' in my_list:\n",
    "    print(\"Character is contained in my_list\")\n",
    "elif 'a' in my_string:\n",
    "    print(\"Character is contained in my_string\")\n",
    "else:\n",
    "    print(\"Character is not contained in any object of this snippet\")"
   ]
  },
  {
   "cell_type": "markdown",
   "metadata": {},
   "source": [
    "Cualquier evaluación cuyo resultado sea un vaor boleano puede ser usado para controlar estas estructuras. Eso incluye algunas funciones.\n",
    "\n",
    "_**Nota:**_ Recuerda que los operadores lógicos por bit no comparan el valor dos expresiones lógicas, comparan los bits de los objetos y son usados para modificar valores por lo que no generan objetos lógicos necesariamente."
   ]
  },
  {
   "cell_type": "markdown",
   "metadata": {},
   "source": [
    "### Estructuras cíclicas ( `repeat`, `while`, `for`)\n",
    "\n",
    "Las estructuras cíclicas sirven para automatizar procesos repetitivos. Existen tres tipos de ciclos básicos, los cuales son:\n",
    "\n",
    "* Loops condicionales\n",
    "* Loops iterativos\n",
    "\n",
    "Los loops condicionales son rutinas que se ejecutan mientras una condición lógica sea cierta. Se crean con la instrucción `while`"
   ]
  },
  {
   "cell_type": "code",
   "execution_count": 74,
   "metadata": {
    "scrolled": true
   },
   "outputs": [
    {
     "name": "stdout",
     "output_type": "stream",
     "text": [
      "0 1 2 3 4 5 "
     ]
    }
   ],
   "source": [
    "counter = 0\n",
    "while counter <= 5:\n",
    "    print(counter, end = \" \")\n",
    "    counter += 1"
   ]
  },
  {
   "cell_type": "markdown",
   "metadata": {},
   "source": [
    "Con estos cíclos debes ser muy cuidadosos de que no generar loops infinitos:"
   ]
  },
  {
   "cell_type": "code",
   "execution_count": 78,
   "metadata": {},
   "outputs": [
    {
     "ename": "KeyboardInterrupt",
     "evalue": "",
     "output_type": "error",
     "traceback": [
      "\u001b[1;31m---------------------------------------------------------------------------\u001b[0m",
      "\u001b[1;31mKeyboardInterrupt\u001b[0m                         Traceback (most recent call last)",
      "\u001b[1;32m<ipython-input-78-53df0c774d71>\u001b[0m in \u001b[0;36m<module>\u001b[1;34m\u001b[0m\n\u001b[0;32m      1\u001b[0m \u001b[1;31m# Pay attention at kernell satuts\u001b[0m\u001b[1;33m\u001b[0m\u001b[1;33m\u001b[0m\u001b[1;33m\u001b[0m\u001b[0m\n\u001b[0;32m      2\u001b[0m \u001b[1;32mwhile\u001b[0m \u001b[0mcounter\u001b[0m \u001b[1;33m>\u001b[0m \u001b[1;36m0\u001b[0m\u001b[1;33m:\u001b[0m\u001b[1;33m\u001b[0m\u001b[1;33m\u001b[0m\u001b[0m\n\u001b[1;32m----> 3\u001b[1;33m     \u001b[0mcounter\u001b[0m \u001b[1;33m+=\u001b[0m \u001b[1;36m1\u001b[0m\u001b[1;33m\u001b[0m\u001b[1;33m\u001b[0m\u001b[0m\n\u001b[0m\u001b[0;32m      4\u001b[0m \u001b[1;31m# Interrupt the porccess by typing ctrl+c\u001b[0m\u001b[1;33m\u001b[0m\u001b[1;33m\u001b[0m\u001b[1;33m\u001b[0m\u001b[0m\n",
      "\u001b[1;31mKeyboardInterrupt\u001b[0m: "
     ]
    }
   ],
   "source": [
    "# Pay attention at kernell satuts\n",
    "while counter > 0:\n",
    "    counter += 1\n",
    "print(counter)\n",
    "# Interrupt the porccess by typing ctrl+c"
   ]
  },
  {
   "cell_type": "markdown",
   "metadata": {},
   "source": [
    "Los ciclos iterativos utilizan un tipo especial de objeto llamado iterador a través del cuál repiten una subrutina un numéro finito de veces. Las estructuras de datos a partir de las cuáles python puede crear iteradores se les llama objetos iterables.\n",
    "\n",
    "No ahondaremos en los detalles de los iteradores y los iterables, por ahora bastará con saber que las secuencias y los diccionarios (en Python 3.6 o superior) son iterables."
   ]
  },
  {
   "cell_type": "code",
   "execution_count": 87,
   "metadata": {},
   "outputs": [
    {
     "name": "stdout",
     "output_type": "stream",
     "text": [
      "1 2 3 4 5 "
     ]
    },
    {
     "data": {
      "text/plain": [
       "'for number in my_list:\\n    index = number - 1\\n    print(my_list[index], end = \" \")'"
      ]
     },
     "execution_count": 87,
     "metadata": {},
     "output_type": "execute_result"
    }
   ],
   "source": [
    "# Iterating through lists\n",
    "my_list = [1, 2, 3, 4, 5]\n",
    "\n",
    "for number in my_list:\n",
    "    print(number, end= \" \")\n",
    "    \n",
    "\"\"\"for number in my_list:\n",
    "    index = number - 1\n",
    "    print(my_list[index], end = \" \")\"\"\""
   ]
  },
  {
   "cell_type": "code",
   "execution_count": 85,
   "metadata": {},
   "outputs": [
    {
     "name": "stdout",
     "output_type": "stream",
     "text": [
      "0 1 2 3 4 "
     ]
    }
   ],
   "source": [
    "# Iterating through ranges\n",
    "for number in range(5): # Try to create a range starting in 3, or a decremental range. \n",
    "    print(number, end = \" \")"
   ]
  },
  {
   "cell_type": "code",
   "execution_count": 89,
   "metadata": {},
   "outputs": [
    {
     "name": "stdout",
     "output_type": "stream",
     "text": [
      "orange is said naranja in spanish\n",
      "blue is said azul in spanish\n",
      "purple is said morado in spanish\n"
     ]
    }
   ],
   "source": [
    "# Iterating through dictionaries\n",
    "my_dict = {\"orange\" : \"naranja\", \"blue\" : \"azul\", \"purple\" : \"morado\"}\n",
    "\n",
    "for color in my_dict:\n",
    "    print(color, \"is said\", my_dict[color], \"in spanish\")"
   ]
  },
  {
   "cell_type": "code",
   "execution_count": 91,
   "metadata": {},
   "outputs": [
    {
     "name": "stdout",
     "output_type": "stream",
     "text": [
      "['P', 'r', 'o', 'g', 'r', 'a', 'm', 'm', 'i', 'n', 'g']\n"
     ]
    }
   ],
   "source": [
    "# Iterating to strings\n",
    "word = []\n",
    "for character in \"Programming\":\n",
    "    word.append(character)\n",
    "print(word)"
   ]
  },
  {
   "cell_type": "markdown",
   "metadata": {},
   "source": [
    "### Instrucciones auxiliares en ciclos:\n",
    "\n",
    "Existen tres instrucciones auxiliares que ayudan al uso de estas estructuras:\n",
    "* `pass`: Indica a la estructura que continue ejecutando la subrutina en la manera en que lo estaba haciendo.\n",
    "* `continue`: Indica que debe interrumpir el paso que está ejecutando actualmente y continuar con el siguiente paso\n",
    "* `break`: Indica que debe interrumpir por completo la ejecución de la estructura"
   ]
  },
  {
   "cell_type": "code",
   "execution_count": 23,
   "metadata": {
    "scrolled": true
   },
   "outputs": [
    {
     "name": "stdout",
     "output_type": "stream",
     "text": [
      "0 2 [0, 1, 2, 2]\n"
     ]
    }
   ],
   "source": [
    "my_list = [0, 1 , 2]\n",
    "\n",
    "for i in my_list:\n",
    "    if i == 0:\n",
    "        pass\n",
    "        print(i, end = \" \")\n",
    "    elif i == 1:\n",
    "        continue\n",
    "        print(i, end = \" \")\n",
    "    elif i == 2:\n",
    "        print(i, end = \" \")\n",
    "        break\n",
    "    else:\n",
    "        print(':O', end=\"\\n\")\n",
    "    my_list.append(i+2)\n",
    "    \n",
    "\n",
    "print(my_list)"
   ]
  },
  {
   "cell_type": "markdown",
   "metadata": {},
   "source": [
    "## 2.2 Definición de funciones, clases y métodos _an overview_ \n",
    "\n",
    "Hasta ahora has trabajado con funciónes y métodos que pertenecen a la librería estándar de python. En excepcionales ocasiones habremos visto un ejemplo de funciones que hayan sido importadas de algún módulo externo. En ambos casos tienes una noción de como se invocan dichas funciones, cómo consultar los parámetros que éstas reciben y cómo ingresar dichos parámetros. \n",
    "\n",
    "En resumen, hemos utilizado funciones como herramientas para hacer más sencillo y eficiente nuestro código. Pero como supondrás no existen herramentas para resolver todos los problemas a los que nos enfrentamos. Ahora aprenderemos los conceptos básicos para definir tus propias funciones. Pero antes es necesario introducir un par de conceptos: _contexto_ y _namespace._\n",
    "\n",
    "### Contextos y namespaces. \n",
    "\n",
    "Contexto es el nombre de la región del script donde un objeto está disponible (donde fue creado). Namespace es el espacio abstracto en el que se almacena el nombre de un objeto. Estos dos conceptos estan estrechamente relacionados, pero son diferentes. \n",
    "\n",
    "Puedes pensar en el contexto como el lugar en el que el puedes invocar el un objeto por dicho nombre. El namespace es el lugar donde puedes asignar un nombre a un objeto.\n",
    "\n",
    "Cuando se define una variable el nombre de esa variable no escapa su contexto. En cambio otros objetos como las funciones si pueden escapar esas \"barreras\".\n",
    "\n",
    "Los contextos pueden clasificarse en tres categorías, de mayor a menor generalidad:\n",
    "\n",
    "* Contexto _built-in_\n",
    "* Contexto global\n",
    "* Contextos locales\n",
    "    * Fucniones\n",
    "    * Instancias\n",
    "    * Clases\n",
    "    * Módulos\n",
    "\n",
    "El **contexto _built-in_** (que has escuchado anteriormente) es el contexto más general que incluye todos los objetos de la librería estándar de python. Como se ha dicho anteriormente, esta biblioteca se importa automáticamente al iniciar un kernell de Python y por lo tanto sus funciones están disponibles siempre y en todos los niveles. "
   ]
  },
  {
   "cell_type": "code",
   "execution_count": 114,
   "metadata": {},
   "outputs": [
    {
     "name": "stdout",
     "output_type": "stream",
     "text": [
      "None is a built-in variable, so it is available everywhere in the script\n"
     ]
    }
   ],
   "source": [
    "print(None, \"is a built-in variable, so it is available everywhere in the script\")"
   ]
  },
  {
   "cell_type": "markdown",
   "metadata": {},
   "source": [
    "Desde luego Python tiene que asegurarse que no haya ambigüedad al momento de usar variables o instrucciones del contexto _built-in_ es por eso que existen _keywords_ . Una _keyword_ de python es una palabra que NO puede utilizarse como nombre de ningún objeto, pues Python la reserva para sí. \n",
    "\n",
    "En un IDE adecuado es fácil reconocer estas _keywords_ . Aunque los nombre de funciones y métodos no son _keywords_ se recomienda ampliamente no utilizarlas como nombres de variables, pues Python no sobreescirbirá el nombre de la función y tu objeto no será accesible. "
   ]
  },
  {
   "cell_type": "markdown",
   "metadata": {},
   "source": [
    "El **contexto global** de Python es el contexto que corresponde al cuerpo principal de un script. Un objeto definido en este contexto será un objeto global y puedes acceder a el en cualquier parte del cuerpo principal del código:"
   ]
  },
  {
   "cell_type": "code",
   "execution_count": 113,
   "metadata": {
    "scrolled": true
   },
   "outputs": [
    {
     "name": "stdout",
     "output_type": "stream",
     "text": [
      "print is invoked in the global scope so A global variable is a valid argument for it\n"
     ]
    }
   ],
   "source": [
    "global_string= \"A global variable\"\n",
    "print(\"print is invoked in the global scope so \" + global_string + \" is a valid argument for it\")"
   ]
  },
  {
   "cell_type": "markdown",
   "metadata": {},
   "source": [
    "Finalmente, los **contextos locales** son aquellos que corresponden a la definición interna de funciones, clases, instancias (objetos) o a los módulos que importas. Estos contextos son capaces de usar las funciones y métodos definidos en contextos de mayor jerarquía, pero no viceversa.\n",
    "\n",
    "En general estos contextos se pueden identificar gracias a la identación (funciones y clases) y en otros no podrás verlos directamente en tu script (objetos y módulos importados).\n",
    "\n",
    "Para ver ejemplos de estos contextos empecemos de lleno con la definición de funciones"
   ]
  },
  {
   "cell_type": "markdown",
   "metadata": {},
   "source": [
    "### Funciones\n",
    "\n",
    "Una función se define con la instrucción `def` "
   ]
  },
  {
   "cell_type": "code",
   "execution_count": 115,
   "metadata": {},
   "outputs": [
    {
     "name": "stdout",
     "output_type": "stream",
     "text": [
      "This is my first function\n"
     ]
    }
   ],
   "source": [
    "def my_function(): # global function\n",
    "    \"\"\"This function receives no parameters and print a message\"\"\" # Local scope of my function\n",
    "    print(\"This is my first function\")\n",
    "    \n",
    "my_function() # global invokation of my_function"
   ]
  },
  {
   "cell_type": "markdown",
   "metadata": {},
   "source": [
    "Cuando queremos que la función reciba argumentos, debemos especificar el nombre de dichos argumentos, de esta manera Python podrá identificarlos de cualquier manera, posicional o por clave. \n",
    "\n",
    "Adivinaste, estos parámetros serán variables locales, por lo que sus nombres solo existirán dentro de la función en que están definidos. "
   ]
  },
  {
   "cell_type": "code",
   "execution_count": 121,
   "metadata": {},
   "outputs": [],
   "source": [
    "def print_a_number(number):\n",
    "    \"\"\"This function receives a value, named number, increases it by one and prints it\"\"\" # Docstring\n",
    "    number += 1\n",
    "    print(\"This function print the number\", number) # number is a local variable"
   ]
  },
  {
   "cell_type": "code",
   "execution_count": 122,
   "metadata": {},
   "outputs": [
    {
     "name": "stdout",
     "output_type": "stream",
     "text": [
      "This function print the number 2\n"
     ]
    }
   ],
   "source": [
    "number = 6\n",
    "print_a_number(1)"
   ]
  },
  {
   "cell_type": "code",
   "execution_count": 124,
   "metadata": {},
   "outputs": [],
   "source": [
    "# Now you can ask Python how to use the function, as you can see, you must enter an argument mandatory\n",
    "? print_a_number"
   ]
  },
  {
   "cell_type": "code",
   "execution_count": 127,
   "metadata": {},
   "outputs": [
    {
     "name": "stdout",
     "output_type": "stream",
     "text": [
      "THE NUMBER IS 1\n"
     ]
    }
   ],
   "source": [
    "# Default values\n",
    "\n",
    "def print_a_number(number = 1, case=\"upper\"):\n",
    "    if case == \"upper\":\n",
    "        print(\"THE NUMBER IS\", number)\n",
    "    elif case == \"lower\":\n",
    "        print(\"the number is \", number)\n",
    "    else:\n",
    "        print(\"case parameter must be either 'upper' or 'lower'\")\n",
    "        \n",
    "print_a_number()"
   ]
  },
  {
   "cell_type": "code",
   "execution_count": 128,
   "metadata": {},
   "outputs": [
    {
     "name": "stdout",
     "output_type": "stream",
     "text": [
      "the number is  1\n"
     ]
    }
   ],
   "source": [
    "# Nominal parameters\n",
    "print_a_number(case =\"lower\")"
   ]
  },
  {
   "cell_type": "markdown",
   "metadata": {},
   "source": [
    "Finalmente, existen dos instrucciones útiles que puedes usar en el contexto local de una función para generar valores en el contexto global: \n",
    "\n",
    "* `global`: Declara una variable como global\n",
    "* `return`: Entrega un resultado"
   ]
  },
  {
   "cell_type": "code",
   "execution_count": 131,
   "metadata": {},
   "outputs": [
    {
     "name": "stdout",
     "output_type": "stream",
     "text": [
      "This is a string\n"
     ]
    }
   ],
   "source": [
    "# Declaring a global variable in local scope makes it available in the global scope\n",
    "\n",
    "def give_a_string():\n",
    "    global name\n",
    "    name = \"This is a string\"\n",
    "\n",
    "print(name) # Try to print name after invoking give_a_string\n",
    "give_a_string()\n"
   ]
  },
  {
   "cell_type": "code",
   "execution_count": 139,
   "metadata": {},
   "outputs": [
    {
     "name": "stdout",
     "output_type": "stream",
     "text": [
      "1 2\n"
     ]
    }
   ],
   "source": [
    "# Returning a value to the global scope\n",
    "def give_a_number(number = 0):\n",
    "    number += 1\n",
    "    return number\n",
    "\n",
    "print(give_a_number(), end = \" \")\n",
    "x = give_a_number(1)\n",
    "print(x)"
   ]
  },
  {
   "cell_type": "markdown",
   "metadata": {},
   "source": [
    "### Clases\n",
    "\n",
    "Las clases son la forma en que diferenciamos entre objetos. Ellas contienen los atributos necesarios para crear un objeto. En la programación orientada a objetos, los objetos son espejos de entidades reales que participan en el problema que queremos solucionar y por ello podemos crear cuantas clases y subclases sean necesarias. \n",
    "\n",
    "No es el objeto de este curso ahondar en el desarrollo de clases y subclases. Pero emplearemos librerías que introducen otro tipo de clases útiles en ciencia de Datos. Así que conocer como se estructura una clase nos permitirá movernos con mayor confianza cuando hablemos de ellos.\n",
    "\n",
    "Las clases se definen con el comando `class`:"
   ]
  },
  {
   "cell_type": "code",
   "execution_count": 145,
   "metadata": {},
   "outputs": [],
   "source": [
    "class Stack: # Stack name\n",
    "    def __init__(self, name = \"stack\"): # Constructor function\n",
    "        self.name = name # attribute\n",
    "        self.__stackList = [] # encapsulated atrribute"
   ]
  },
  {
   "cell_type": "markdown",
   "metadata": {},
   "source": [
    "El ejemplo que vamos a crear es una clase llamada \"Stack\". Los stack son pilas de datos en los que solo podemos añadir y eliminat datos al final.\n",
    "\n",
    "La primer función siempre debe ser `__init__` y siempre debe tener el argumento `self`. Esta función es llamada constructora e inicializa a los objetos que se crean con esta clase. El parámetro `self` nos permitirá acceder a los atributos del objeto. \n",
    "\n",
    "La función constructora crea un atributo mediante la instrucción `self.name` y le asigna el valor del argumento homónimo. Un segundo atributo es creado por la función constructora `self.__stackList`, este atributo, por su síntaxis, está encapsulado. \n",
    "\n",
    "Para entender lo que significa encapsulado comencemos por esto: Los atributos no son otra cosa que variables locales. Son creadas al momento en que se crea un objeto de cierta clase, por lo que los llamamos \"variables de objeto\""
   ]
  },
  {
   "cell_type": "code",
   "execution_count": 152,
   "metadata": {},
   "outputs": [
    {
     "data": {
      "text/plain": [
       "__main__.Stack"
      ]
     },
     "execution_count": 152,
     "metadata": {},
     "output_type": "execute_result"
    }
   ],
   "source": [
    "# A class instance is an object created from a particular class\n",
    "my_instance = Stack()\n",
    "type(my_instance)"
   ]
  },
  {
   "cell_type": "code",
   "execution_count": 149,
   "metadata": {},
   "outputs": [
    {
     "data": {
      "text/plain": [
       "'stack'"
      ]
     },
     "execution_count": 149,
     "metadata": {},
     "output_type": "execute_result"
    }
   ],
   "source": [
    "# You can access objects attributes by\n",
    "my_instance.name"
   ]
  },
  {
   "cell_type": "code",
   "execution_count": 151,
   "metadata": {},
   "outputs": [
    {
     "ename": "AttributeError",
     "evalue": "'Stack' object has no attribute '__stackList'",
     "output_type": "error",
     "traceback": [
      "\u001b[1;31m---------------------------------------------------------------------------\u001b[0m",
      "\u001b[1;31mAttributeError\u001b[0m                            Traceback (most recent call last)",
      "\u001b[1;32m<ipython-input-151-a4c39906ecd8>\u001b[0m in \u001b[0;36m<module>\u001b[1;34m\u001b[0m\n\u001b[1;32m----> 1\u001b[1;33m \u001b[0mmy_instance\u001b[0m\u001b[1;33m.\u001b[0m\u001b[0m__stackList\u001b[0m\u001b[1;33m\u001b[0m\u001b[1;33m\u001b[0m\u001b[0m\n\u001b[0m",
      "\u001b[1;31mAttributeError\u001b[0m: 'Stack' object has no attribute '__stackList'"
     ]
    }
   ],
   "source": [
    "my_instance.__stackList"
   ]
  },
  {
   "cell_type": "code",
   "execution_count": 170,
   "metadata": {},
   "outputs": [
    {
     "name": "stdout",
     "output_type": "stream",
     "text": [
      "True False\n"
     ]
    }
   ],
   "source": [
    "# Checking instances attributes\n",
    "print(hasattr(my_instance, \"name\"), hasattr(my_instance, \"__stackList\"))"
   ]
  },
  {
   "cell_type": "markdown",
   "metadata": {},
   "source": [
    "Una subclase se crea indicando la clase de la que proviene:"
   ]
  },
  {
   "cell_type": "code",
   "execution_count": 177,
   "metadata": {},
   "outputs": [
    {
     "data": {
      "text/plain": [
       "True"
      ]
     },
     "execution_count": 177,
     "metadata": {},
     "output_type": "execute_result"
    }
   ],
   "source": [
    "class AddingStack(Stack): #defining a subclass\n",
    "    def __init__(self):\n",
    "        Stack.__init__(self) # Calling the constructor\n",
    "        self.__sum = 0 # Creating extra attributes\n",
    "        \n",
    "my_instance = AddingStack()\n",
    "hasattr(my_instance, \"name\") # Name attribute comes from superclass"
   ]
  },
  {
   "cell_type": "markdown",
   "metadata": {},
   "source": [
    "Ahora puedes saber si un objeto tiene o no un atributo, en caso de que este sea accesible. Además sabrás identificar que atributos no podrás acceder. \n",
    "\n",
    "### Métodos\n",
    "\n",
    "La ventaja de las clases es que no solo tienen atributos (variables locales) asociadas, también métodos(funciones locales)"
   ]
  },
  {
   "cell_type": "code",
   "execution_count": 179,
   "metadata": {},
   "outputs": [],
   "source": [
    "class Stack:\n",
    "    def __init__(self):\n",
    "        self.__stackList = []\n",
    "\n",
    "    def push(self, val): # Defining a method\n",
    "        self.__stackList.append(val)\n",
    "\n",
    "    def pop(self):\n",
    "        val = self.__stackList[-1]\n",
    "        del self.__stackList[-1]\n",
    "        return val\n",
    "    \n",
    "class AddingStack(Stack):\n",
    "    def __init__(self):\n",
    "        Stack.__init__(self)\n",
    "        self.__sum = 0 # Encapsulated attribute\n",
    "\n",
    "    def getSum(self):\n",
    "        return self.__sum \n",
    "\n",
    "    def push(self, val):\n",
    "        self.__sum += val\n",
    "        Stack.push(self, val)\n",
    "\n",
    "    def pop(self):\n",
    "        val = Stack.pop(self)\n",
    "        self.__sum -= val\n",
    "        return val"
   ]
  },
  {
   "cell_type": "code",
   "execution_count": 183,
   "metadata": {},
   "outputs": [
    {
     "name": "stdout",
     "output_type": "stream",
     "text": [
      "0\n",
      "10\n"
     ]
    }
   ],
   "source": [
    "# Invoking methods\n",
    "my_stack = AddingStack()\n",
    "\n",
    "print(my_stack.getSum())\n",
    "\n",
    "for i in range(10): \n",
    "    my_stack.push(1)\n",
    "\n",
    "print(my_stack.getSum())"
   ]
  },
  {
   "cell_type": "markdown",
   "metadata": {},
   "source": [
    "Finalmente, si quieres conocer los atributos de una clase u objeto puedes usar un atributo que todos los objetos poseen `__dict__`"
   ]
  },
  {
   "cell_type": "code",
   "execution_count": 185,
   "metadata": {},
   "outputs": [
    {
     "data": {
      "text/plain": [
       "mappingproxy({'__module__': '__main__',\n",
       "              '__init__': <function __main__.Stack.__init__(self)>,\n",
       "              'push': <function __main__.Stack.push(self, val)>,\n",
       "              'pop': <function __main__.Stack.pop(self)>,\n",
       "              '__dict__': <attribute '__dict__' of 'Stack' objects>,\n",
       "              '__weakref__': <attribute '__weakref__' of 'Stack' objects>,\n",
       "              '__doc__': None})"
      ]
     },
     "execution_count": 185,
     "metadata": {},
     "output_type": "execute_result"
    }
   ],
   "source": [
    "# All attributes and methods (encapsulated or not) do appear here\n",
    "Stack.__dict__"
   ]
  },
  {
   "cell_type": "markdown",
   "metadata": {},
   "source": [
    "## 2.3 Módulos y librerías _an overview_ \n",
    "\n",
    "Cuando quieres invocar una función, crear un objeto de cierta clase, o invocar un método de un objeto, Python hace una busqueda entre los módulos y librerías de que dispone para encontrar dichos objetos. Si no los encuentra generará un error.\n",
    "\n",
    "Crear módulos y librerías no es complicado. Un módulo no es más que un Script de Python que colecciona muchas definiciones de funciones, clases, métodos, y en algunos casos variables. Las librerías no son más que los directorios donde se almacenan estos módulos y un script inicializador adicional. \n",
    "\n",
    "El objetivo de este curso no es profundizar en los detalles de la creación de módulos y librerías, por lo que por ahora bastará con que sepas que puedes importar los que necesites utilizando la instrucción `import`"
   ]
  },
  {
   "cell_type": "code",
   "execution_count": 46,
   "metadata": {},
   "outputs": [
    {
     "data": {
      "text/plain": [
       "123"
      ]
     },
     "execution_count": 46,
     "metadata": {},
     "output_type": "execute_result"
    }
   ],
   "source": [
    "a = int(\"123\")\n",
    "\n",
    "len(a) if type(a) is str else a"
   ]
  },
  {
   "cell_type": "code",
   "execution_count": 37,
   "metadata": {},
   "outputs": [
    {
     "ename": "KeyboardInterrupt",
     "evalue": "",
     "output_type": "error",
     "traceback": [
      "\u001b[1;31m----------------------------------------------------------------------\u001b[0m",
      "\u001b[1;31mKeyboardInterrupt\u001b[0m                    Traceback (most recent call last)",
      "\u001b[1;32m<ipython-input-37-a9cd4fd7b51c>\u001b[0m in \u001b[0;36m<module>\u001b[1;34m\u001b[0m\n\u001b[0;32m      3\u001b[0m \u001b[1;33m\u001b[0m\u001b[0m\n\u001b[0;32m      4\u001b[0m \u001b[1;31m# Importing a module with an alias\u001b[0m\u001b[1;33m\u001b[0m\u001b[1;33m\u001b[0m\u001b[1;33m\u001b[0m\u001b[0m\n\u001b[1;32m----> 5\u001b[1;33m \u001b[1;32mimport\u001b[0m \u001b[0mpandas\u001b[0m \u001b[1;32mas\u001b[0m \u001b[0mpd\u001b[0m\u001b[1;33m\u001b[0m\u001b[1;33m\u001b[0m\u001b[0m\n\u001b[0m\u001b[0;32m      6\u001b[0m \u001b[1;33m\u001b[0m\u001b[0m\n\u001b[0;32m      7\u001b[0m \u001b[1;31m# Importing multiple modules with their alias\u001b[0m\u001b[1;33m\u001b[0m\u001b[1;33m\u001b[0m\u001b[1;33m\u001b[0m\u001b[0m\n",
      "\u001b[1;32m~\\anaconda3\\lib\\site-packages\\pandas\\__init__.py\u001b[0m in \u001b[0;36m<module>\u001b[1;34m\u001b[0m\n\u001b[0;32m     53\u001b[0m \u001b[1;32mimport\u001b[0m \u001b[0mpandas\u001b[0m\u001b[1;33m.\u001b[0m\u001b[0mcore\u001b[0m\u001b[1;33m.\u001b[0m\u001b[0mconfig_init\u001b[0m\u001b[1;33m\u001b[0m\u001b[1;33m\u001b[0m\u001b[0m\n\u001b[0;32m     54\u001b[0m \u001b[1;33m\u001b[0m\u001b[0m\n\u001b[1;32m---> 55\u001b[1;33m from pandas.core.api import (\n\u001b[0m\u001b[0;32m     56\u001b[0m     \u001b[1;31m# dtype\u001b[0m\u001b[1;33m\u001b[0m\u001b[1;33m\u001b[0m\u001b[1;33m\u001b[0m\u001b[0m\n\u001b[0;32m     57\u001b[0m     \u001b[0mInt8Dtype\u001b[0m\u001b[1;33m,\u001b[0m\u001b[1;33m\u001b[0m\u001b[1;33m\u001b[0m\u001b[0m\n",
      "\u001b[1;32m~\\anaconda3\\lib\\site-packages\\pandas\\core\\api.py\u001b[0m in \u001b[0;36m<module>\u001b[1;34m\u001b[0m\n\u001b[0;32m      4\u001b[0m \u001b[1;32mfrom\u001b[0m \u001b[0mpandas\u001b[0m\u001b[1;33m.\u001b[0m\u001b[0m_libs\u001b[0m\u001b[1;33m.\u001b[0m\u001b[0mmissing\u001b[0m \u001b[1;32mimport\u001b[0m \u001b[0mNA\u001b[0m\u001b[1;33m\u001b[0m\u001b[1;33m\u001b[0m\u001b[0m\n\u001b[0;32m      5\u001b[0m \u001b[1;33m\u001b[0m\u001b[0m\n\u001b[1;32m----> 6\u001b[1;33m from pandas.core.dtypes.dtypes import (\n\u001b[0m\u001b[0;32m      7\u001b[0m     \u001b[0mCategoricalDtype\u001b[0m\u001b[1;33m,\u001b[0m\u001b[1;33m\u001b[0m\u001b[1;33m\u001b[0m\u001b[0m\n\u001b[0;32m      8\u001b[0m     \u001b[0mDatetimeTZDtype\u001b[0m\u001b[1;33m,\u001b[0m\u001b[1;33m\u001b[0m\u001b[1;33m\u001b[0m\u001b[0m\n",
      "\u001b[1;32m~\\anaconda3\\lib\\site-packages\\pandas\\core\\dtypes\\dtypes.py\u001b[0m in \u001b[0;36m<module>\u001b[1;34m\u001b[0m\n\u001b[0;32m      6\u001b[0m \u001b[1;32mimport\u001b[0m \u001b[0mpytz\u001b[0m\u001b[1;33m\u001b[0m\u001b[1;33m\u001b[0m\u001b[0m\n\u001b[0;32m      7\u001b[0m \u001b[1;33m\u001b[0m\u001b[0m\n\u001b[1;32m----> 8\u001b[1;33m \u001b[1;32mfrom\u001b[0m \u001b[0mpandas\u001b[0m\u001b[1;33m.\u001b[0m\u001b[0m_libs\u001b[0m\u001b[1;33m.\u001b[0m\u001b[0minterval\u001b[0m \u001b[1;32mimport\u001b[0m \u001b[0mInterval\u001b[0m\u001b[1;33m\u001b[0m\u001b[1;33m\u001b[0m\u001b[0m\n\u001b[0m\u001b[0;32m      9\u001b[0m \u001b[1;32mfrom\u001b[0m \u001b[0mpandas\u001b[0m\u001b[1;33m.\u001b[0m\u001b[0m_libs\u001b[0m\u001b[1;33m.\u001b[0m\u001b[0mtslibs\u001b[0m \u001b[1;32mimport\u001b[0m \u001b[0mNaT\u001b[0m\u001b[1;33m,\u001b[0m \u001b[0mPeriod\u001b[0m\u001b[1;33m,\u001b[0m \u001b[0mTimestamp\u001b[0m\u001b[1;33m,\u001b[0m \u001b[0mtimezones\u001b[0m\u001b[1;33m\u001b[0m\u001b[1;33m\u001b[0m\u001b[0m\n\u001b[0;32m     10\u001b[0m \u001b[1;32mfrom\u001b[0m \u001b[0mpandas\u001b[0m\u001b[1;33m.\u001b[0m\u001b[0m_typing\u001b[0m \u001b[1;32mimport\u001b[0m \u001b[0mOrdered\u001b[0m\u001b[1;33m\u001b[0m\u001b[1;33m\u001b[0m\u001b[0m\n",
      "\u001b[1;32mpandas\\_libs\\intervaltree.pxi\u001b[0m in \u001b[0;36minit pandas._libs.interval\u001b[1;34m()\u001b[0m\n",
      "\u001b[1;32m~\\anaconda3\\lib\\importlib\\_bootstrap.py\u001b[0m in \u001b[0;36mparent\u001b[1;34m(self)\u001b[0m\n",
      "\u001b[1;31mKeyboardInterrupt\u001b[0m: "
     ]
    }
   ],
   "source": [
    "# Importing a module \n",
    "import math\n",
    "\n",
    "# Importing a module with an alias\n",
    "import pandas as pd\n",
    "\n",
    "# Importing multiple modules with their alias\n",
    "import numpy as np, matplotlib.pyplot as plt"
   ]
  },
  {
   "cell_type": "markdown",
   "metadata": {},
   "source": [
    "Una vez importado los módulos adecuados puedes utilizar las funciones y cosntantes adecuadas:"
   ]
  },
  {
   "cell_type": "code",
   "execution_count": 194,
   "metadata": {},
   "outputs": [
    {
     "data": {
      "text/plain": [
       "3.141592653589793"
      ]
     },
     "execution_count": 194,
     "metadata": {},
     "output_type": "execute_result"
    }
   ],
   "source": [
    "# Pi constant from math\n",
    "math.pi"
   ]
  },
  {
   "cell_type": "code",
   "execution_count": 196,
   "metadata": {},
   "outputs": [],
   "source": [
    "# Array class from Numpy\n",
    "my_array = np.array([])"
   ]
  },
  {
   "cell_type": "code",
   "execution_count": 197,
   "metadata": {},
   "outputs": [
    {
     "data": {
      "text/plain": [
       "[<matplotlib.lines.Line2D at 0x256d23cdbc8>]"
      ]
     },
     "execution_count": 197,
     "metadata": {},
     "output_type": "execute_result"
    },
    {
     "data": {
      "image/png": "[encoded data removed]",
      "text/plain": [
       "<Figure size 432x288 with 1 Axes>"
      ]
     },
     "metadata": {
      "needs_background": "light"
     },
     "output_type": "display_data"
    }
   ],
   "source": [
    "# Plot function from pyplot\n",
    "plt.plot(range(10), range(10))"
   ]
  },
  {
   "cell_type": "code",
   "execution_count": 211,
   "metadata": {},
   "outputs": [
    {
     "name": "stdout",
     "output_type": "stream",
     "text": [
      "#78DBE2\n"
     ]
    }
   ],
   "source": [
    "# Importing especific objects from modules\n",
    "from seaborn import crayons\n",
    "print(crayons[\"Aquamarine\"])"
   ]
  },
  {
   "cell_type": "markdown",
   "metadata": {},
   "source": [
    "Si no puedes importar un modulo lo más probable es que:\n",
    "* No esté instalada\n",
    "* No se encuentre en el directorio adecuado"
   ]
  },
  {
   "cell_type": "markdown",
   "metadata": {},
   "source": [
    "## 2.4 Strings en python _an overview_\n",
    "\n",
    "Solamente resta abordar un detalle antes de entrar a fondo en el análisis de datos. ¿Cómo una computadora procesa cadenas de caractéres?\n",
    "\n",
    "La respuesta es el _encoding_. En este proceso la computadora le asigna un valor numérico unívoco a cada caracter y utiliza esta asignación para convertir caractéres en valores numéricos. Python por defecto utiliza el sistema  UNICODE/UTF-8, basado en ASCII y en su variación Latin-1.\n",
    "\n",
    "Sin embargo, las librería que trabajaremos para importar datos (pandas) utiliza la versión más simple de AScII por lo que debes considerarlo al momento de realizar la importación."
   ]
  },
  {
   "cell_type": "code",
   "execution_count": null,
   "metadata": {},
   "outputs": [],
   "source": []
  },
  {
   "cell_type": "markdown",
   "metadata": {},
   "source": [
    "**Funciones** \n",
    "\n",
    "`min(\"string\")`\n",
    "\n",
    "`max(\"string\")`\n",
    "\n",
    "`list(\"string\")`\n",
    "\n",
    "**Métdos**\n",
    "\n",
    "`\"string\".index(\"character\") # No aplicable a secuencias vacías`\n",
    "\n",
    "`\"string\".find(\"character\", start = 0, stop = None) # Solo aplicable a strings, el string puede estar vacío `\n",
    "\n",
    "`\"string\".rfind(\"character\", start = 0, stop = None) # Solo aplicable a strings, el string puede estar vacío `\n",
    "\n",
    "`\"string\".count(\"character\"`\n",
    "\n",
    "`\"string\".capitalize()`\n",
    "\n",
    "`\"string\".center(\"width of new string\", sep = \" \")`\n",
    "\n",
    "`\"string\".endswith(\"character\")`\n",
    "\n",
    "`\"string\".startswith(\"character\")`\n",
    "\n",
    "`\"string\".isalnum()`\n",
    "\n",
    "`\"string\".isdigit()`\n",
    "\n",
    "`\"string\".isalpha()`\n",
    "\n",
    "`\"string\".isupper()`\n",
    "\n",
    "`\"string\".islower()`\n",
    "\n",
    "`\"string\".ispace()`\n",
    "\n",
    "`\"string\".join(list_of_strings)`\n",
    "\n",
    "`\"string\".lower()`\n",
    "\n",
    "`\"string\".lstrip()`\n",
    "\n",
    "`\"string\".rstrip()`\n",
    "\n",
    "`\"string\".strip()`\n",
    "\n",
    "`\"string\".isalpha()`\n",
    "\n",
    "`\"string\".replace(\"string to be replaced\", \"string to replace with\", number_of_replacements = all)`\n",
    "\n",
    "`\"string\".isalpha()`\n",
    "\n",
    "`\"string\".split()`\n",
    "\n",
    "`\"string\".swapcase()`\n",
    "\n",
    "`\"string\".title()`\n",
    "\n"
   ]
  },
  {
   "cell_type": "code",
   "execution_count": null,
   "metadata": {},
   "outputs": [],
   "source": []
  }
 ],
 "metadata": {
  "kernelspec": {
   "display_name": "Python 3",
   "language": "python",
   "name": "python3"
  },
  "language_info": {
   "codemirror_mode": {
    "name": "ipython",
    "version": 3
   },
   "file_extension": ".py",
   "mimetype": "text/x-python",
   "name": "python",
   "nbconvert_exporter": "python",
   "pygments_lexer": "ipython3",
   "version": "3.8.3"
  }
 },
 "nbformat": 4,
 "nbformat_minor": 4
}
