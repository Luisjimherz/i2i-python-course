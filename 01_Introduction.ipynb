{
 "cells": [
  {
   "cell_type": "markdown",
   "metadata": {},
   "source": [
    "# 1. Introducción al lenguaje: Python\n",
    "\n",
    "<a id=’doc’></a>\n",
    "### Documentación\n",
    "\n",
    "***Documentación oficial de Python:*** https://www.python.org/doc/\n",
    "\n",
    "***Objetos de la librería estándar de Python:*** https://docs.python.org/3/library/ \n",
    "\n",
    "### Contenido\n",
    "\n",
    "* Objetos en Python\n",
    "* Tipos de datos\n",
    "* Estructuras de Datos\n",
    "* Estructuras de control\n",
    "* Estructuras de Itereción\n",
    "\n",
    "### Recursos\n",
    "\n",
    "***Style guide for Python Code:*** https://www.python.org/dev/peps/pep-0008/\n",
    "\n",
    "***Funny (and useful) tutorials:*** https://realpython.com"
   ]
  },
  {
   "cell_type": "markdown",
   "metadata": {},
   "source": [
    "## 1.1 Objetos en Python\n",
    "\n",
    "Lo primero que debes saber si nunca has programado en Python es que su principal paradigma es la **progrmación orientada a objetos**. \n",
    "\n",
    "Todas las entidades con las que trabajaremos (variables, estructuras de datos, funciones y más) son considerados por el intérprete como objetos con propiedades y funcionalidades definidas por su _clase_ (tipo de objeto). \n",
    "\n",
    "Algunos de los tipos de datos construidos en la librería estándar de Python son:\n",
    "\n",
    "1. **String** Los strings son cadenas de caractéres que representan letras, palabras, frases e incluso estructuras más complejas. En python los strings se definen utilizando las comillas simples`'This is a string` o dobles `\"This is also a string\"`\n",
    "\n",
    "2. **Numeric** Los numeric son secuencias de dígitos y representan valores numéricos. Estos numeros pueden ingresarse en forma decimal `123`, octal `0o123`y hexadecimal `0x123`. Estos a su vez pueden dividirse en otro tipo de objetos: \n",
    "    * Integer\n",
    "    * Float\n",
    "    * Complex\n",
    "3. **Bolean** Los boleans son expresiones lógicas (Verdadero o falso)\n",
    "4. **Sequence** Son objetos que contienen un conunto ordenado de más objetos. A veces estas estructuras pueden contener elementos del mismo tipo, otras no, y tienen diferentes usos y aplicaciones. Estas estructuras incluyen:\n",
    "    * Listas\n",
    "    * Tuplas\n",
    "    * Rangos\n",
    "5. **Dictionary** Los diccionarios son conjuntos de datos no ordenados. \n",
    "6. **Exceptions** Son el objeto en el que se almacenan los errores producidos durante la interpretación del código.\n",
    " "
   ]
  },
  {
   "cell_type": "markdown",
   "metadata": {},
   "source": [
    "## 1.2 Variables en Python"
   ]
  },
  {
   "cell_type": "markdown",
   "metadata": {},
   "source": [
    "Las **variables** son objetos utilizados para almacenar los resultados de las expresiones ejecutadas, cualquier tipo de expresión que devuelva un objeto e incluso más de uno. Los atributos de una variable son, esencialmente, dos: **Nombre** y **Valor**. Una variable es creada una vez que le asignamos un valor y desde ese momento puede ser utilizado más adelante en el código por su nombre. No necesita ser declarada explícitamente."
   ]
  },
  {
   "cell_type": "code",
   "execution_count": 1,
   "metadata": {},
   "outputs": [],
   "source": [
    "my_var = 'Hola_mundo'"
   ]
  },
  {
   "cell_type": "code",
   "execution_count": 2,
   "metadata": {
    "scrolled": false
   },
   "outputs": [
    {
     "name": "stdout",
     "output_type": "stream",
     "text": [
      "Hola_mundo\n"
     ]
    }
   ],
   "source": [
    "print(my_var) "
   ]
  },
  {
   "cell_type": "code",
   "execution_count": 19,
   "metadata": {
    "scrolled": true
   },
   "outputs": [
    {
     "name": "stdout",
     "output_type": "stream",
     "text": [
      "This is a string variable\n"
     ]
    }
   ],
   "source": [
    "text = \"This is a string variable\"\n",
    "print(text)"
   ]
  },
  {
   "cell_type": "code",
   "execution_count": 28,
   "metadata": {
    "scrolled": true
   },
   "outputs": [
    {
     "name": "stdout",
     "output_type": "stream",
     "text": [
      "1 <class 'int'>\n",
      "-1 <class 'int'>\n",
      "1.0 <class 'float'>\n",
      "0.4 <class 'float'>\n",
      "100.0 <class 'float'>\n",
      "True <class 'bool'>\n",
      "None <class 'NoneType'>\n",
      "a <class 'str'>\n"
     ]
    }
   ],
   "source": [
    "a = 1\n",
    "b = -1\n",
    "c = 1. # x = 1.0\n",
    "d = 0.4 # x = .4\n",
    "e = 1e2 # x = 1E2\n",
    "f = True\n",
    "g = None\n",
    "h = \"a\"\n",
    "\n",
    "print(a, type(a))\n",
    "print(b, type(b))\n",
    "print(c, type(c))\n",
    "print(d, type(d))\n",
    "print(e, type(e))\n",
    "print(f, type(f))\n",
    "print(g, type(g))\n",
    "print(h, type(h))"
   ]
  },
  {
   "cell_type": "code",
   "execution_count": 20,
   "metadata": {},
   "outputs": [
    {
     "name": "stdout",
     "output_type": "stream",
     "text": [
      "100 <class 'int'>\n"
     ]
    }
   ],
   "source": [
    "my_variable = 100\n",
    "print(my_variable, type(my_variable))"
   ]
  },
  {
   "cell_type": "code",
   "execution_count": 23,
   "metadata": {
    "scrolled": true
   },
   "outputs": [
    {
     "name": "stdout",
     "output_type": "stream",
     "text": [
      "1.0 <class 'float'>\n"
     ]
    }
   ],
   "source": [
    "operated_variable = my_variable / 100 # Prueba con la división entera \n",
    "print(operated_variable, type(operated_variable))"
   ]
  },
  {
   "cell_type": "markdown",
   "metadata": {},
   "source": [
    "Determinar el tipo de un objeto mediante coerción o _Casting_ es muy sencillo. Cada clase puede ser en sí misma una función para tal efecto. Además la naturaleza dinámica de Python permite al lenguaje interpretar las expresiones ejecutadas y cambir el tipo de objeto, por ejemplo de una variable, en función de las necesidades del programa"
   ]
  },
  {
   "cell_type": "code",
   "execution_count": 25,
   "metadata": {
    "scrolled": false
   },
   "outputs": [
    {
     "data": {
      "text/plain": [
       "int"
      ]
     },
     "execution_count": 25,
     "metadata": {},
     "output_type": "execute_result"
    }
   ],
   "source": [
    "integer = 1\n",
    "type(integer)"
   ]
  },
  {
   "cell_type": "code",
   "execution_count": 30,
   "metadata": {},
   "outputs": [
    {
     "data": {
      "text/plain": [
       "float"
      ]
     },
     "execution_count": 30,
     "metadata": {},
     "output_type": "execute_result"
    }
   ],
   "source": [
    "integer = float(integer)\n",
    "type(integer)"
   ]
  },
  {
   "cell_type": "code",
   "execution_count": 31,
   "metadata": {},
   "outputs": [
    {
     "data": {
      "text/plain": [
       "int"
      ]
     },
     "execution_count": 31,
     "metadata": {},
     "output_type": "execute_result"
    }
   ],
   "source": [
    "integer = 1\n",
    "type(integer)"
   ]
  },
  {
   "cell_type": "markdown",
   "metadata": {},
   "source": [
    "Una ventaja de Python es que es posible realizar asignaciones de valores a varias variables de manera simultánea, lo cuál sireve para reducir las líneas de código"
   ]
  },
  {
   "cell_type": "code",
   "execution_count": 97,
   "metadata": {
    "scrolled": false
   },
   "outputs": [
    {
     "name": "stdout",
     "output_type": "stream",
     "text": [
      "1 2 3\n"
     ]
    }
   ],
   "source": [
    "x, y, z = 1, 2, 3\n",
    "print(x, y, z)"
   ]
  },
  {
   "cell_type": "code",
   "execution_count": 3,
   "metadata": {
    "scrolled": true
   },
   "outputs": [
    {
     "ename": "TypeError",
     "evalue": "can only concatenate str (not \"int\") to str",
     "output_type": "error",
     "traceback": [
      "\u001b[1;31m---------------------------------------------------------------------------\u001b[0m",
      "\u001b[1;31mTypeError\u001b[0m                                 Traceback (most recent call last)",
      "\u001b[1;32m<ipython-input-3-68cd104bb2ed>\u001b[0m in \u001b[0;36m<module>\u001b[1;34m\u001b[0m\n\u001b[0;32m      2\u001b[0m \u001b[0mmy_num\u001b[0m \u001b[1;33m=\u001b[0m \u001b[1;36m2\u001b[0m\u001b[1;33m\u001b[0m\u001b[1;33m\u001b[0m\u001b[0m\n\u001b[0;32m      3\u001b[0m \u001b[1;33m\u001b[0m\u001b[0m\n\u001b[1;32m----> 4\u001b[1;33m \u001b[0mvsum\u001b[0m \u001b[1;33m=\u001b[0m \u001b[0mmy_str\u001b[0m \u001b[1;33m+\u001b[0m \u001b[0mmy_num\u001b[0m\u001b[1;33m\u001b[0m\u001b[1;33m\u001b[0m\u001b[0m\n\u001b[0m",
      "\u001b[1;31mTypeError\u001b[0m: can only concatenate str (not \"int\") to str"
     ]
    }
   ],
   "source": [
    "my_str = \"1\"\n",
    "my_num = 2\n",
    "\n",
    "vsum = my_str + my_num"
   ]
  },
  {
   "cell_type": "code",
   "execution_count": 24,
   "metadata": {
    "scrolled": true
   },
   "outputs": [
    {
     "ename": "SyntaxError",
     "evalue": "invalid syntax (<ipython-input-24-1e399fbe0764>, line 1)",
     "output_type": "error",
     "traceback": [
      "\u001b[1;36m  File \u001b[1;32m\"<ipython-input-24-1e399fbe0764>\"\u001b[1;36m, line \u001b[1;32m1\u001b[0m\n\u001b[1;33m    import = 123\u001b[0m\n\u001b[1;37m           ^\u001b[0m\n\u001b[1;31mSyntaxError\u001b[0m\u001b[1;31m:\u001b[0m invalid syntax\n"
     ]
    }
   ],
   "source": [
    "import = 123"
   ]
  },
  {
   "cell_type": "markdown",
   "metadata": {},
   "source": [
    "Las reglas sintácticas para los nombres de las variables en Python son muy estrictas, y son las siguientes:\n",
    "\n",
    "1. Solo se pueden utilizar caractéres alfanuméricos (mayúsculas o minimisculas) y el guión bajo \\\"_\\\" . Incluso se pueden usar caractéres de otros alfabetos que no sean los propios del inglés. \n",
    "2. El nombre debe comenzar con una letra o el guión bajo.\n",
    "3. Los nombres son sensibles a los caractéres en mayúsucula y minúscula\n",
    "4. El nombre de una variable no puede ser una palabra reservada de python.\n",
    "\n",
    "Aunque hay mucha libertad encuanto a el nombramiento de una variable, la guía de estilo para código Python recomienda que las variables se escriban en minúsculas, en inglés, con la menor cantidad de caracteres posible y que reflejen una idea de su contenido. "
   ]
  },
  {
   "cell_type": "markdown",
   "metadata": {},
   "source": [
    "**Ejercicio** \n",
    "\n",
    "Una de las ventajas de la filosofía de síntaxis de Python es que esta diseñada para ser comprensible, aún cuando no conozcamos algunas funciones o librerías. Analiza el siguiente código, antes de ejecutarlo trata de responder estas preguntas, después verifica tus respuestas:\n",
    " 1. ¿Por qué es necesario importar la librería sys?\n",
    " 2. La variable python_version, ¿es de tipo string?\n",
    " 3. ¿Qué hace el operador `+`dentro de la función `print`?\n",
    " 4. ¿Qué hace esta rutina?\n",
    "    "
   ]
  },
  {
   "cell_type": "code",
   "execution_count": 5,
   "metadata": {},
   "outputs": [
    {
     "name": "stdout",
     "output_type": "stream",
     "text": [
      "Python's version: 3\n"
     ]
    }
   ],
   "source": [
    "# La expresión import sirve para llamar librerías que no estan inluidas en el sistema base\n",
    "import sys \n",
    "\n",
    "python_version = sys.version_info[0]\n",
    "print(\"Python's version: \" + str(python_version))"
   ]
  },
  {
   "cell_type": "markdown",
   "metadata": {},
   "source": [
    "## 1.3. Estructuras de datos\n"
   ]
  },
  {
   "cell_type": "markdown",
   "metadata": {},
   "source": [
    "\n",
    "\n",
    "Cuando se requiere trabajar con datos estructurados es más conveniente utilizar una sola variable que almacene todos los datos. Las estructuras de datos en la librería estándar de Python son básicamente Secuencias y diccionarios.\n",
    "\n",
    "### Colecciones indexadas\n",
    "* Listas\n",
    "* Arreglos\n",
    "* Tuplas\n",
    "* Rangos\n",
    "\n",
    "### Colecciones no indexdas\n",
    "* Sets\n",
    "* Diccionarios\n",
    "\n",
    "\n",
    "### Listas\n",
    "\n",
    "Las listas son colecciones de datos ordenadas (cero-indexadas) y mutables y se definen como se muestra a continuación"
   ]
  },
  {
   "cell_type": "code",
   "execution_count": 35,
   "metadata": {
    "scrolled": false
   },
   "outputs": [
    {
     "name": "stdout",
     "output_type": "stream",
     "text": [
      "['manzana', 'banana', 'cherry', 'peach', 'watermelon', 'grape', 'strawberry']\n"
     ]
    }
   ],
   "source": [
    "my_list = [\"manzana\", \"banana\", \"cherry\", \"peach\", \"watermelon\", \"grape\", \"strawberry\"]\n",
    "print(my_list)"
   ]
  },
  {
   "cell_type": "code",
   "execution_count": 37,
   "metadata": {
    "scrolled": true
   },
   "outputs": [
    {
     "data": {
      "text/plain": [
       "list"
      ]
     },
     "execution_count": 37,
     "metadata": {},
     "output_type": "execute_result"
    }
   ],
   "source": [
    "type(my_list)"
   ]
  },
  {
   "cell_type": "markdown",
   "metadata": {},
   "source": [
    "En el ejemplo anterior, creamos una lista cuyos elementos son objetos de tipo string. Nota que la función `print`que hemos usado para imprimir el contenido de una variable en el pasado, en este caso imprime todos los elementos de la lista, porque todos estan almacenados en la misma variable. Para acceder a un valor en específico de la lista lo hacemos a través de su índice:"
   ]
  },
  {
   "cell_type": "code",
   "execution_count": 38,
   "metadata": {
    "scrolled": true
   },
   "outputs": [
    {
     "name": "stdout",
     "output_type": "stream",
     "text": [
      "manzana <class 'str'>\n"
     ]
    }
   ],
   "source": [
    "print(my_list[0], type(my_list[0]))"
   ]
  },
  {
   "cell_type": "markdown",
   "metadata": {},
   "source": [
    "Las listas son estructuras muy felxibles, pueden almacenar elementos de distinta naturaleza, incluyendo otras listas:"
   ]
  },
  {
   "cell_type": "code",
   "execution_count": 6,
   "metadata": {},
   "outputs": [],
   "source": [
    "party = [500, \"cake\", [\"ballons\", \"Banner\"]]"
   ]
  },
  {
   "cell_type": "markdown",
   "metadata": {},
   "source": [
    "Cuando decimos que una lista es mutable, nos referimos a que los valores de sus elementos pueden ser reasignados, individual o colectivamente"
   ]
  },
  {
   "cell_type": "code",
   "execution_count": 28,
   "metadata": {},
   "outputs": [
    {
     "name": "stdout",
     "output_type": "stream",
     "text": [
      "[1, 2, 3, 4, 5]\n"
     ]
    }
   ],
   "source": [
    "numbers = [1, 2, 3, 4, 5,]\n",
    "print(numbers)"
   ]
  },
  {
   "cell_type": "code",
   "execution_count": 29,
   "metadata": {},
   "outputs": [
    {
     "name": "stdout",
     "output_type": "stream",
     "text": [
      "[1, 2, 3, 4, 5]\n",
      "[1, 2, [6, 7, 8, 9, 10], 4, 5]\n"
     ]
    }
   ],
   "source": [
    "print(numbers)\n",
    "numbers[2] = [6, 7, 8, 9, 10]\n",
    "print(numbers)"
   ]
  },
  {
   "cell_type": "markdown",
   "metadata": {
    "scrolled": false
   },
   "source": [
    "### Indexing and Slicing"
   ]
  },
  {
   "cell_type": "code",
   "execution_count": 52,
   "metadata": {},
   "outputs": [],
   "source": [
    "numbers[1:4] = [2, 3, 4, 5]"
   ]
  },
  {
   "cell_type": "markdown",
   "metadata": {},
   "source": [
    "#### Longitud de una lista\n",
    "\n",
    "Muchas veces es necesario conocer la longitud de una lista. Contar cada uno de los elementos que la conforman no es conveniente cundo trabajamos con estructuras que almacenan una gran cantidad de datos. Para ello podemos usar la función `len`, tal como en el ejemplo de algunas celdas arriba:"
   ]
  },
  {
   "cell_type": "code",
   "execution_count": 54,
   "metadata": {
    "scrolled": true
   },
   "outputs": [
    {
     "data": {
      "text/plain": [
       "0"
      ]
     },
     "execution_count": 54,
     "metadata": {},
     "output_type": "execute_result"
    }
   ],
   "source": [
    "len(my_list)"
   ]
  },
  {
   "cell_type": "code",
   "execution_count": 55,
   "metadata": {},
   "outputs": [
    {
     "ename": "IndexError",
     "evalue": "list index out of range",
     "output_type": "error",
     "traceback": [
      "\u001b[1;31m---------------------------------------------------------------------------\u001b[0m",
      "\u001b[1;31mIndexError\u001b[0m                                Traceback (most recent call last)",
      "\u001b[1;32m<ipython-input-55-db8d8d0d3ff3>\u001b[0m in \u001b[0;36m<module>\u001b[1;34m\u001b[0m\n\u001b[0;32m      1\u001b[0m \u001b[1;31m# ¿Cuál es el error?\u001b[0m\u001b[1;33m\u001b[0m\u001b[1;33m\u001b[0m\u001b[1;33m\u001b[0m\u001b[0m\n\u001b[1;32m----> 2\u001b[1;33m \u001b[0mmy_list\u001b[0m\u001b[1;33m[\u001b[0m\u001b[0mlen\u001b[0m\u001b[1;33m(\u001b[0m\u001b[0mmy_list\u001b[0m\u001b[1;33m)\u001b[0m\u001b[1;33m]\u001b[0m\u001b[1;33m\u001b[0m\u001b[1;33m\u001b[0m\u001b[0m\n\u001b[0m",
      "\u001b[1;31mIndexError\u001b[0m: list index out of range"
     ]
    }
   ],
   "source": [
    "# ¿Cuál es el error?\n",
    "my_list[len(my_list)]"
   ]
  },
  {
   "cell_type": "markdown",
   "metadata": {},
   "source": [
    "### Eliminar elementos de una lista \n",
    "\n",
    "La instrucción `del`sirve para eliminar elementos en una lista por su índice. "
   ]
  },
  {
   "cell_type": "code",
   "execution_count": 56,
   "metadata": {},
   "outputs": [
    {
     "ename": "IndexError",
     "evalue": "list assignment index out of range",
     "output_type": "error",
     "traceback": [
      "\u001b[1;31m---------------------------------------------------------------------------\u001b[0m",
      "\u001b[1;31mIndexError\u001b[0m                                Traceback (most recent call last)",
      "\u001b[1;32m<ipython-input-56-55b05f5f8a85>\u001b[0m in \u001b[0;36m<module>\u001b[1;34m\u001b[0m\n\u001b[1;32m----> 1\u001b[1;33m \u001b[1;32mdel\u001b[0m \u001b[0mmy_list\u001b[0m\u001b[1;33m[\u001b[0m\u001b[1;33m-\u001b[0m\u001b[1;36m1\u001b[0m\u001b[1;33m]\u001b[0m  \u001b[1;31m#Qué hace el índice negativo?\u001b[0m\u001b[1;33m\u001b[0m\u001b[1;33m\u001b[0m\u001b[0m\n\u001b[0m",
      "\u001b[1;31mIndexError\u001b[0m: list assignment index out of range"
     ]
    }
   ],
   "source": [
    "del my_list[-1]  #Qué hace el índice negativo?"
   ]
  },
  {
   "cell_type": "markdown",
   "metadata": {},
   "source": [
    "### Copiando listas\n",
    "\n",
    "Cuando es necesario crear copias de listas, es muy importante entender como es que Python realiza las asignaciones de listas a las variables, pues difiere un poco a la asignación de escalares. \n",
    "\n",
    "La asignación de listas a avariabes sigue realizando de derecha a izquierda, pero existe una diferecia crucial, el nombre de la lista se asocia a la locación de la memoria donde la lista es guardada, no al valor que tiene como es en el caso de los escalares"
   ]
  },
  {
   "cell_type": "code",
   "execution_count": 30,
   "metadata": {},
   "outputs": [
    {
     "name": "stdout",
     "output_type": "stream",
     "text": [
      "[1, 2, 3]\n"
     ]
    }
   ],
   "source": [
    "list_copy = my_list \n",
    "print(list_copy)"
   ]
  },
  {
   "cell_type": "code",
   "execution_count": 85,
   "metadata": {},
   "outputs": [],
   "source": [
    "del my_list[5:]"
   ]
  },
  {
   "cell_type": "code",
   "execution_count": 86,
   "metadata": {},
   "outputs": [
    {
     "name": "stdout",
     "output_type": "stream",
     "text": [
      "[1, 0, 2, 3, 4]\n"
     ]
    }
   ],
   "source": [
    "print(list_copy)"
   ]
  },
  {
   "cell_type": "markdown",
   "metadata": {},
   "source": [
    "Como puedes notar, cuando a una variable (en este caso `list_copy`) le asignamos otra previamente definida como una lista, no estamos asignado el contenido de la primera, si no su nombre. Esto quiere decir que `list_copy` es una _referencia_ del objeto `list` y por lo tanto cada vez que modifiquemos `list` podremos ver esos cambios cada vez que llamemos a `list_copy`\n",
    "\n",
    "El método `copy` es usado para duplicar el contenido de una variable y asignarlo a otra."
   ]
  },
  {
   "cell_type": "code",
   "execution_count": 91,
   "metadata": {
    "scrolled": true
   },
   "outputs": [
    {
     "name": "stdout",
     "output_type": "stream",
     "text": [
      "[1, 0, 2, 3, 4]\n"
     ]
    }
   ],
   "source": [
    "list_copy = my_list.copy()\n",
    "print(list_copy)"
   ]
  },
  {
   "cell_type": "code",
   "execution_count": 93,
   "metadata": {
    "scrolled": true
   },
   "outputs": [
    {
     "name": "stdout",
     "output_type": "stream",
     "text": [
      "[] [1, 0, 2, 3, 4]\n"
     ]
    }
   ],
   "source": [
    "my_list.clear()\n",
    "print(my_list, list_copy)"
   ]
  },
  {
   "cell_type": "markdown",
   "metadata": {},
   "source": [
    "Otra forma de hacerlo es llamando a los valores indexados de la lista que queremos copiar. Esto funciona porque al llamar a los elementos previa a una asignación, lo que le decimos a la variables es que almacene objetos contenidos dentro de la lista, no el nombre de la lista."
   ]
  },
  {
   "cell_type": "code",
   "execution_count": 101,
   "metadata": {},
   "outputs": [
    {
     "name": "stdout",
     "output_type": "stream",
     "text": [
      "[] [1, 2, 3, 4, 5]\n"
     ]
    }
   ],
   "source": [
    "my_list =[1, 2, 3, 4, 5]\n",
    "list_copy = my_list[ 0 : len(my_list)]  # Prueba esto list_copy = my_list[:]\n",
    "my_list.clear()\n",
    "print(my_list, list_copy)"
   ]
  },
  {
   "cell_type": "markdown",
   "metadata": {},
   "source": [
    "### Arreglos\n",
    "\n",
    "Hemos visto que las listas pueden contener cualquer tipo de objeto como elemento, incluyendo otras listas. Las listas que están conformodas únicamente por listas como elementos se consideran otro tipo de estructura de datos, muy útil cuando se quiere trabajar por elemplo con matrices.\n",
    "\n",
    "Los arreglos tienen un atributo especial llamado dimensión. "
   ]
  },
  {
   "cell_type": "code",
   "execution_count": 113,
   "metadata": {},
   "outputs": [
    {
     "name": "stdout",
     "output_type": "stream",
     "text": [
      "[[1, 2, 3], [4, 5, 6], [7, 8, 9]]\n"
     ]
    }
   ],
   "source": [
    "x, y, z = [1, 2, 3], [4, 5, 6], [7, 8, 9]\n",
    "my_array = [x, y, z]\n",
    "print(my_array)"
   ]
  },
  {
   "cell_type": "markdown",
   "metadata": {},
   "source": [
    "### Tuplas\n",
    "\n",
    "Al igual que las listas, las tuplas son una colección de datos ordenada. Esto quiere decir que son estructuras de datos indexadas y que podemos consultar sus elementos a tráves de su índidice de la misma forma que lo hacemos con las listas. La característica principal que diferencia una tupla de una lista, es que la tupla es inmutable, es decir, una vez que es definida sus elementos no pueden cambiar. "
   ]
  },
  {
   "cell_type": "code",
   "execution_count": 1,
   "metadata": {},
   "outputs": [],
   "source": [
    "my_tuple = (\"apple\", \"banana\", \"cherry\")"
   ]
  },
  {
   "cell_type": "code",
   "execution_count": 2,
   "metadata": {
    "scrolled": true
   },
   "outputs": [
    {
     "name": "stdout",
     "output_type": "stream",
     "text": [
      "apple\n"
     ]
    }
   ],
   "source": [
    "print(my_tuple[0])"
   ]
  },
  {
   "cell_type": "code",
   "execution_count": 3,
   "metadata": {
    "scrolled": false
   },
   "outputs": [
    {
     "ename": "TypeError",
     "evalue": "'tuple' object does not support item assignment",
     "output_type": "error",
     "traceback": [
      "\u001b[1;31m---------------------------------------------------------------------------\u001b[0m",
      "\u001b[1;31mTypeError\u001b[0m                                 Traceback (most recent call last)",
      "\u001b[1;32m<ipython-input-3-32a03b18dcf9>\u001b[0m in \u001b[0;36m<module>\u001b[1;34m\u001b[0m\n\u001b[1;32m----> 1\u001b[1;33m \u001b[0mmy_tuple\u001b[0m\u001b[1;33m[\u001b[0m\u001b[1;36m0\u001b[0m\u001b[1;33m]\u001b[0m \u001b[1;33m=\u001b[0m \u001b[1;34m\"grape\"\u001b[0m\u001b[1;33m\u001b[0m\u001b[1;33m\u001b[0m\u001b[0m\n\u001b[0m",
      "\u001b[1;31mTypeError\u001b[0m: 'tuple' object does not support item assignment"
     ]
    }
   ],
   "source": [
    "my_tuple[0] = \"grape\""
   ]
  },
  {
   "cell_type": "markdown",
   "metadata": {},
   "source": [
    "### Sets\n",
    "\n",
    "Los sets son colecciones no indexadas de daos"
   ]
  },
  {
   "cell_type": "code",
   "execution_count": 31,
   "metadata": {},
   "outputs": [],
   "source": [
    "my_set = {\"a\", 1, 2, 3, 4, 5}"
   ]
  },
  {
   "cell_type": "code",
   "execution_count": 32,
   "metadata": {},
   "outputs": [
    {
     "ename": "TypeError",
     "evalue": "'set' object is not subscriptable",
     "output_type": "error",
     "traceback": [
      "\u001b[1;31m---------------------------------------------------------------------------\u001b[0m",
      "\u001b[1;31mTypeError\u001b[0m                                 Traceback (most recent call last)",
      "\u001b[1;32m<ipython-input-32-158c424478a1>\u001b[0m in \u001b[0;36m<module>\u001b[1;34m\u001b[0m\n\u001b[1;32m----> 1\u001b[1;33m \u001b[0mmy_set\u001b[0m\u001b[1;33m[\u001b[0m\u001b[1;36m0\u001b[0m\u001b[1;33m]\u001b[0m\u001b[1;33m\u001b[0m\u001b[1;33m\u001b[0m\u001b[0m\n\u001b[0m",
      "\u001b[1;31mTypeError\u001b[0m: 'set' object is not subscriptable"
     ]
    }
   ],
   "source": [
    "my_set[0]"
   ]
  },
  {
   "cell_type": "markdown",
   "metadata": {},
   "source": [
    "### Diccionarios\n",
    "\n",
    "El diccionario es el otro tipo de estructura de datos de Python. Esta estructura no es indexada y por lo tanto no podemos llamar a sus elementos de la manera que lo hacíamos con las estructuras anteriores. Sin embargo nos permite almacenar distintos objetos en una estructura que al igual que las listas es mutable. \n",
    "\n",
    "En un diccionario de Python, la manera de encontrar elementos es a través de una llave. La llave es una palabra que identifica al valor con el que está asociado. Estas llaves deben ser únicas y pueden ser de cualquier tipo de dato. Es importante que si una llave es de tipo string, se ingrese como tal al llamar a ese elemento. También considera que las llaves son sensibles a las mayúsculas y minúsculas de tal modo que `llave`, `Llave`, y `LLAVE`son llaves distintas. \n",
    "\n",
    "Puedes pensar en un diccionario como un ser de pares `llave-valor` donde la longitud, obtenida por la función `len`, es el número de pares almacenados en él. "
   ]
  },
  {
   "cell_type": "code",
   "execution_count": 21,
   "metadata": {},
   "outputs": [],
   "source": [
    "my_dictionary = {\"cat\" : \"gato\", \"dog\" : \"perro\", \"horse\" : \"caballo\"}"
   ]
  },
  {
   "cell_type": "code",
   "execution_count": 22,
   "metadata": {},
   "outputs": [
    {
     "data": {
      "text/plain": [
       "'gato'"
      ]
     },
     "execution_count": 22,
     "metadata": {},
     "output_type": "execute_result"
    }
   ],
   "source": [
    "my_dictionary[\"cat\"]"
   ]
  },
  {
   "cell_type": "code",
   "execution_count": 23,
   "metadata": {},
   "outputs": [
    {
     "ename": "KeyError",
     "evalue": "'gato'",
     "output_type": "error",
     "traceback": [
      "\u001b[1;31m---------------------------------------------------------------------------\u001b[0m",
      "\u001b[1;31mKeyError\u001b[0m                                  Traceback (most recent call last)",
      "\u001b[1;32m<ipython-input-23-ff3a3806daf8>\u001b[0m in \u001b[0;36m<module>\u001b[1;34m\u001b[0m\n\u001b[1;32m----> 1\u001b[1;33m \u001b[0mmy_dictionary\u001b[0m\u001b[1;33m[\u001b[0m\u001b[1;34m\"gato\"\u001b[0m\u001b[1;33m]\u001b[0m\u001b[1;33m\u001b[0m\u001b[1;33m\u001b[0m\u001b[0m\n\u001b[0m",
      "\u001b[1;31mKeyError\u001b[0m: 'gato'"
     ]
    }
   ],
   "source": [
    "my_dictionary[\"gato\"]"
   ]
  },
  {
   "cell_type": "markdown",
   "metadata": {},
   "source": [
    "Como puedes darte cuenta, los diccionarios son uni-direccionados. Podemos encontrar un valor a partir de su llave, pero no viceversa. "
   ]
  },
  {
   "cell_type": "code",
   "execution_count": 24,
   "metadata": {},
   "outputs": [
    {
     "name": "stdout",
     "output_type": "stream",
     "text": [
      "{'cat': 'gato', 'dog': 'perro', 'horse': 'caballo'}\n"
     ]
    }
   ],
   "source": [
    "print(my_dictionary)"
   ]
  },
  {
   "cell_type": "markdown",
   "metadata": {},
   "source": [
    "### ¿ Son los diccionarios una secuancia de datos? \n",
    "\n",
    "Una secuencia de datos en Python es una estructura de datos ordenados, tal como las listas, los arreglos y las tuplas. La respuesta a si los diccionarios son estructuras ordenadas es **depende**. \n",
    "\n",
    "Originalmente los diccionarios en Python no eran estructuras ordenadas, lo que causaba que por ejemplo al imprimir su contenido `print(my_dictionary)`los pares llave-valor en la consola aparecieran en un orden distinto a aquel en que fueron definidos (cosa que no ocurría con las listas). \n",
    "\n",
    "La lógica de esto es sencilla. Una estructura esta ordenada de acuerdo al índice de sus elementos. Las listas y las tuplas al estar indexadas están ordenadas, pero los diccionarios no. Una implicación más importante es en la implementación de códigos que requieran objetos iterables. Un objeto iterable es por definición una secuencia ordenada.\n",
    "\n",
    "Sin embargo, a partir de la versión Python3.6 se establecieron los diccionarios como estructuras ordenadas posicionalmente. **Siguen siendo estructuras no indexadas** pero están ordenadas posicionalmente, de manera que para versiones Python3.6 o superiores, los diccionarios pueden ser usados como objetos iterables. \n",
    "\n",
    "Para versiones anteriores, existe el método `keys` que te devuelve una secuencia iterable con las llaves del diccionario que lo llama:"
   ]
  },
  {
   "cell_type": "code",
   "execution_count": 28,
   "metadata": {
    "scrolled": false
   },
   "outputs": [
    {
     "name": "stdout",
     "output_type": "stream",
     "text": [
      "gato\n",
      "perro\n",
      "caballo\n"
     ]
    }
   ],
   "source": [
    "# Este código solo corre en Python 3.6 o superior\n",
    "\n",
    "for i in my_dictionary:\n",
    "    print(my_dictionary[i])"
   ]
  },
  {
   "cell_type": "code",
   "execution_count": 30,
   "metadata": {},
   "outputs": [
    {
     "name": "stdout",
     "output_type": "stream",
     "text": [
      "gato\n",
      "perro\n",
      "caballo\n"
     ]
    }
   ],
   "source": [
    "# Este corre en todos lados. \n",
    "for i in my_dictionary.keys():\n",
    "    print(my_dictionary[i])"
   ]
  },
  {
   "cell_type": "markdown",
   "metadata": {},
   "source": [
    "Otros métodos muy utilizados en diccionarios son: `items` que devuelve una secuencia de tuplas donde cada tupla tiene los valores de llave y valor de cada elemento del diccionario."
   ]
  },
  {
   "cell_type": "code",
   "execution_count": 39,
   "metadata": {},
   "outputs": [
    {
     "name": "stdout",
     "output_type": "stream",
     "text": [
      "cat gato\n"
     ]
    }
   ],
   "source": [
    "elements = list(my_dictionary.items())\n",
    "english, spanish = elements[0][0], elements[0][1]\n",
    "print(english, spanish)"
   ]
  },
  {
   "cell_type": "markdown",
   "metadata": {},
   "source": [
    "y el método `values` que es análogo a `keys`.\n",
    "\n",
    "### Añadir/cambiar elementos al diccionario"
   ]
  },
  {
   "cell_type": "markdown",
   "metadata": {},
   "source": [
    "Las estrategias para añadir o modificar los valores asociados a una llave son los mismos. Existen dos maneras de hacerlo. La primera consiste en reasignar el valor de un elemento a su llave. Si la llave ya existe, se reemplazará el valor asociado a él, si la llave no existe se creará un nuevo elemento en el diccionario."
   ]
  },
  {
   "cell_type": "code",
   "execution_count": 40,
   "metadata": {},
   "outputs": [],
   "source": [
    "my_dictionary[\"bird\"] = \"pájaro\""
   ]
  },
  {
   "cell_type": "code",
   "execution_count": 41,
   "metadata": {},
   "outputs": [
    {
     "name": "stdout",
     "output_type": "stream",
     "text": [
      "{'cat': 'gato', 'dog': 'perro', 'horse': 'caballo', 'bird': 'pájaro'}\n"
     ]
    }
   ],
   "source": [
    "print(my_dictionary)"
   ]
  },
  {
   "cell_type": "markdown",
   "metadata": {},
   "source": [
    "La otra forma es utilizar el método `update`"
   ]
  },
  {
   "cell_type": "code",
   "execution_count": 47,
   "metadata": {},
   "outputs": [
    {
     "name": "stdout",
     "output_type": "stream",
     "text": [
      "{'cat': 'gato', 'dog': 'perro', 'horse': 'caballo', 'bird': 'pájaro', 'duck': 'pato'}\n"
     ]
    }
   ],
   "source": [
    "my_dictionary.update({\"duck\" : \"pato\"})\n",
    "print(my_dictionary)"
   ]
  },
  {
   "cell_type": "markdown",
   "metadata": {},
   "source": [
    "##### Verificación de elementos en listas\n",
    "\n",
    "A veces necesitamos saber si existen o no elementos específicos en una lista. Python ofrece dos operadores muy poderosos para ello `in`y `not in`. Estos operadores devuelven valores lógicos dependiendo de si un elemento se encuentra o no en la lista."
   ]
  },
  {
   "cell_type": "code",
   "execution_count": 15,
   "metadata": {
    "scrolled": false
   },
   "outputs": [
    {
     "name": "stdout",
     "output_type": "stream",
     "text": [
      "[1] [1]\n"
     ]
    }
   ],
   "source": [
    "print(my_list, my_list_copy)"
   ]
  },
  {
   "cell_type": "markdown",
   "metadata": {},
   "source": [
    "## Apéndice Operadores básicos\n",
    "\n",
    "1. Operadores aritméticos\n",
    "        1.1 Asignación `a = b` \n",
    "        1.2 Suma `a + b`\n",
    "        1.3 Resta `a - b`\n",
    "        1.4 Multiplicación `a * b`\n",
    "        1.5 División `a / b`\n",
    "        1.6 División entera `//`\n",
    "        1.7 Módulo `a % b`\n",
    "        1.8 Potenciación `a**b`\n",
    "2. Operaciones Lógicas por bit\n",
    "        2.1 And `123 & 210`\n",
    "        2.2 Or `123 | 210`\n",
    "        2.3 Negación `~ 210`\n",
    "        2.4 Xor `123 ^ 210`\n",
    "3. Operaciones lógicas\n",
    "        3.1 And `True and False`\n",
    "        3.2 Or `True or False`\n",
    "        3.3 Negación `not False`\n",
    "3. Operaciones unarias\n",
    "        3.1 Negativo `-a`\n",
    "4. Operaciones de comparación\n",
    "        4.1 Mayor que `a > b`\n",
    "        4.2 Menor que `a < b`\n",
    "        4.3 Mayor o igual `a >= b`\n",
    "        4.4 Menor o igual `a <= b`\n",
    "        4.5 Identico a `a == b`\n",
    "        4.6 Distinto a `a != b`\n",
    "5. Operadores de modificación\n",
    "        5.1 Incremento `x += a`\n",
    "        5.2 Decremento `x -=a`\n",
    "        5.3 Incremento geométrico `x *= a`\n",
    "        5.4 Decemento geométrico `x /= a`\n",
    "6. Operadores de strings\n",
    "        6.1 Concatenciaón `\"A string\" + \"another string\"`\n",
    "        6.2 Replicación `\"A string\" * 2` \n",
    "        \n",
    "En la lista anterior, los operadores aritméticos fueron escritos de menor a mayor jerarquía."
   ]
  },
  {
   "cell_type": "code",
   "execution_count": null,
   "metadata": {},
   "outputs": [],
   "source": []
  }
 ],
 "metadata": {
  "kernelspec": {
   "display_name": "Python 3",
   "language": "python",
   "name": "python3"
  },
  "language_info": {
   "codemirror_mode": {
    "name": "ipython",
    "version": 3
   },
   "file_extension": ".py",
   "mimetype": "text/x-python",
   "name": "python",
   "nbconvert_exporter": "python",
   "pygments_lexer": "ipython3",
   "version": "3.8.3"
  }
 },
 "nbformat": 4,
 "nbformat_minor": 4
}
