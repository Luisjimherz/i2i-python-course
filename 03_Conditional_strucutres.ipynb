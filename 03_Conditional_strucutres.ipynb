{
 "cells": [
  {
   "cell_type": "markdown",
   "metadata": {},
   "source": [
    "# 3. Estructuras condicionales\n",
    "\n",
    "<a id=’doc’></a>\n",
    "### Documentación\n",
    "\n",
    "***Documentación oficial de Python:*** https://www.python.org/doc/ \n",
    "\n",
    "### Contenido\n",
    "\n",
    "* Estrucuturas condicionales (if, elif, else)\n",
    "* Keywords or conditions\n",
    "* In-line conditional statements\n"
   ]
  },
  {
   "cell_type": "markdown",
   "metadata": {},
   "source": [
    "## 3.1 Estructuras de control condicionales\n",
    "\n",
    "Una estructura de control ayuda a controlar la ejecución de ciertas rutinas evaluando condiciones lógicas. Se utilizan principalmente en la automatización de procesos iterativos o repetitivos, así como para la ejecución condicional de rutinas. Existen esencialmente dos tipos de estructuras de control:\n",
    "\n",
    "1. Estructuras cíclicas\n",
    "2. Estructuras condicionales \n",
    "\n",
    "A contiuación veremos cuáles son y en que consisten cada una de ellas. Pero antes es necesario introducir el concepto _identación_. \n",
    "\n",
    "La identación sirve para indicarle a Python las subrutinas que serán controladas por estas estructuras y se ve más o menos así:\n",
    "\n",
    "`This line is not identated\n",
    "    this line is identated`\n",
    "    \n",
    "### Estructuras condicionales (`if`, `elif`, `else`)\n",
    "\n",
    "Las estructuras condicionales evaluan expresiones lógicas y ejecutan la subrutina asociada dependiendo del resultado de la expresión. \n",
    "\n",
    "La estructura `if` ejecuta una subrturina si una condición es verdadera:"
   ]
  },
  {
   "cell_type": "code",
   "execution_count": null,
   "metadata": {},
   "outputs": [],
   "source": [
    "if True: # Prueba ingresando: False, 1, 0, 1, .0, not True, not False, None, [], (), {}\n",
    "    print(\"A true expresion prints this message\")"
   ]
  },
  {
   "cell_type": "code",
   "execution_count": null,
   "metadata": {},
   "outputs": [],
   "source": [
    "# Simple expresions\n",
    "x = 10\n",
    "if x<= 10:\n",
    "    print(x, \"is equal or smaller than 10\")"
   ]
  },
  {
   "cell_type": "code",
   "execution_count": null,
   "metadata": {},
   "outputs": [],
   "source": [
    "# Complex expressions\n",
    "y = 5\n",
    "if x > 10 or y != 10:\n",
    "    print(\"Either\", x, \"is greater than 10 or\", y, \"is different than 10\" )"
   ]
  },
  {
   "cell_type": "markdown",
   "metadata": {},
   "source": [
    "Las instrucciones `else`y `elif` sirve para agregar condiciones adicionales que ejecutan otras subrutinas en caso que la anterior haya sido falsa:"
   ]
  },
  {
   "cell_type": "code",
   "execution_count": null,
   "metadata": {},
   "outputs": [],
   "source": [
    "if []:\n",
    "    print(\"An empty sequence counts for a False value\")\n",
    "elif None:\n",
    "    print(\"None counts for a False value\")\n",
    "else:\n",
    "    print(\"The else instruction is excuted when no other explicit condition was True\")"
   ]
  },
  {
   "cell_type": "code",
   "execution_count": null,
   "metadata": {},
   "outputs": [],
   "source": [
    "# Re-ordening numbers, can you guess the output?\n",
    "\n",
    "x, y, z = 2, 4, 3\n",
    "\n",
    "if x < y:\n",
    "    z, x, y = x, y, z\n",
    "elif x > y:\n",
    "    z, x, y = y, z, x\n",
    "else: \n",
    "    z, x, y = x, z, y\n",
    "\n",
    "print(x, y, z)"
   ]
  },
  {
   "cell_type": "markdown",
   "metadata": {},
   "source": [
    "Cualquier evaluación cuyo resultado sea un vaor boleano puede ser usado para controlar estas estructuras. Eso incluye algunas funciones.\n",
    "\n",
    "_**Nota:**_ Recuerda que los operadores lógicos por bit no comparan el valor dos expresiones lógicas, comparan los bits de los objetos y son usados para modificar valores por lo que no generan objetos lógicos necesariamente."
   ]
  },
  {
   "cell_type": "markdown",
   "metadata": {},
   "source": [
    "## 3.2 Keywords para condiciones\n",
    "\n",
    "Existen otros operadores, o funciones, que son de uso común al momento de querer ejecutar if statements:"
   ]
  },
  {
   "cell_type": "markdown",
   "metadata": {},
   "source": [
    "### is"
   ]
  },
  {
   "cell_type": "code",
   "execution_count": null,
   "metadata": {},
   "outputs": [],
   "source": [
    "# Verifying if two variables are the same object\n",
    "my_list = [1, 2, 3, 4, 5]\n",
    "my_bad_copy = my_list\n",
    "my_copy = my_list.copy()\n",
    "\n",
    "if my_bad_copy is my_list:\n",
    "    print(\"You don´t create list copies by direct variable assignation\")\n",
    "elif not my_copy is my_list:\n",
    "    print(\"You create list copies by using the list.copy() method\")"
   ]
  },
  {
   "cell_type": "markdown",
   "metadata": {},
   "source": [
    "### in"
   ]
  },
  {
   "cell_type": "code",
   "execution_count": null,
   "metadata": {},
   "outputs": [],
   "source": [
    "# Verifying the presence of an item in a sequence\n",
    "num=1\n",
    "char=\"A\"\n",
    "if num in my_list:\n",
    "    print(f\"The number {num} is contained in my_list\")\n",
    "    \n",
    "if not char in my_list:\n",
    "    print(f\"The character {char} is not contained in my_list\")"
   ]
  },
  {
   "cell_type": "markdown",
   "metadata": {},
   "source": [
    "### any and all"
   ]
  },
  {
   "cell_type": "code",
   "execution_count": null,
   "metadata": {},
   "outputs": [],
   "source": [
    "# Verifiying conditions under lists\n",
    "my_boolean_list = [True, False, False]\n",
    "\n",
    "if any(my_boolean_list):\n",
    "    print(\"At least there is a true (or truthy) value\")\n",
    "if all(my_boolean_list):\n",
    "    print(\"There are only true (or truthy) values\")"
   ]
  },
  {
   "cell_type": "markdown",
   "metadata": {},
   "source": [
    "## 3.3 In-line conditional statements\n",
    "\n",
    "En Python es posible escribir expresiones condicionales sencillas en línea para simplificar su sintaxis y ahorrar líneas de código."
   ]
  },
  {
   "cell_type": "code",
   "execution_count": null,
   "metadata": {},
   "outputs": [],
   "source": [
    "my_var = \"This is my variable\"\n",
    "\n",
    "print(len(my_var)) if type(my_var)==str else print(my_var)"
   ]
  },
  {
   "cell_type": "code",
   "execution_count": null,
   "metadata": {},
   "outputs": [],
   "source": []
  }
 ],
 "metadata": {
  "kernelspec": {
   "display_name": "Python 3",
   "language": "python",
   "name": "python3"
  },
  "language_info": {
   "codemirror_mode": {
    "name": "ipython",
    "version": 3
   },
   "file_extension": ".py",
   "mimetype": "text/x-python",
   "name": "python",
   "nbconvert_exporter": "python",
   "pygments_lexer": "ipython3",
   "version": "3.8.3"
  }
 },
 "nbformat": 4,
 "nbformat_minor": 4
}
