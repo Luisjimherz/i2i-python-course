{
 "cells": [
  {
   "cell_type": "markdown",
   "metadata": {},
   "source": [
    "# 5. Funciones y Generadores\n",
    "\n",
    "<a id=’doc’></a>\n",
    "### Documentación\n",
    "\n",
    "***Documentación oficial de Python:*** https://www.python.org/doc/ \n",
    "\n",
    "### Contenido\n",
    "\n",
    "* Definición de funciones (context vs namespace)\n",
    "* Arguments\n",
    "* Importando modulos y funciones\n",
    "* Lambda functions\n",
    "* built-in functions\n",
    "* Generadores vs Iteradores\n",
    "\n",
    "### Recursos\n"
   ]
  },
  {
   "cell_type": "markdown",
   "metadata": {},
   "source": [
    "## 5.1 Definición de funciones\n",
    "\n",
    "Hasta ahora has trabajado con funciónes y métodos que pertenecen a la librería estándar de python. En excepcionales ocasiones habremos visto un ejemplo de funciones que hayan sido importadas de algún módulo externo. En ambos casos tienes una noción de como se invocan dichas funciones, cómo consultar los parámetros que éstas reciben y cómo ingresar dichos parámetros. \n",
    "\n",
    "En resumen, hemos utilizado funciones como herramientas para hacer más sencillo y eficiente nuestro código. Pero como supondrás no existen herramentas para resolver todos los problemas a los que nos enfrentamos. Ahora aprenderemos los conceptos básicos para definir tus propias funciones. Pero antes es necesario introducir un par de conceptos: _contexto_ y _namespace._\n",
    "\n",
    "### Contextos y namespaces. \n",
    "\n",
    "Contexto es el nombre de la región del script donde un objeto está disponible (donde fue creado). Namespace es el espacio abstracto en el que se almacena el nombre de un objeto. Estos dos conceptos estan estrechamente relacionados, pero son diferentes. \n",
    "\n",
    "Puedes pensar en el contexto como el lugar en el que el puedes invocar el un objeto por dicho nombre. El namespace es el lugar donde puedes asignar un nombre a un objeto.\n",
    "\n",
    "Cuando se define una variable el nombre de esa variable no escapa su contexto. En cambio otros objetos como las funciones si pueden escapar esas \"barreras\".b\n",
    "\n",
    "Los contextos pueden clasificarse en tres categorías, de mayor a menor generalidad:\n",
    "\n",
    "* Contexto _built-in_\n",
    "* Contexto global\n",
    "* Contextos locales\n",
    "    * Fucniones\n",
    "    * Instancias\n",
    "    * Clases\n",
    "    * Módulos\n",
    "\n",
    "El **contexto _built-in_** (que has escuchado anteriormente) es el contexto más general que incluye todos los objetos de la librería estándar de python. Como se ha dicho anteriormente, esta biblioteca se importa automáticamente al iniciar un kernell de Python y por lo tanto sus funciones están disponibles siempre y en todos los niveles. "
   ]
  },
  {
   "cell_type": "code",
   "execution_count": null,
   "metadata": {},
   "outputs": [],
   "source": [
    "print(None, \"is a built-in word, so it is available everywhere in the script\")"
   ]
  },
  {
   "cell_type": "markdown",
   "metadata": {},
   "source": [
    "Desde luego Python tiene que asegurarse que no haya ambigüedad al momento de usar variables o instrucciones del contexto _built-in_ es por eso que existen _keywords_ . Una _keyword_ de python es una palabra que NO puede utilizarse como nombre de ningún objeto, pues Python la reserva para sí. \n",
    "\n",
    "En un IDE adecuado es fácil reconocer estas _keywords_ . Aunque los nombre de funciones y métodos no son _keywords_ se recomienda ampliamente no utilizarlas como nombres de variables."
   ]
  },
  {
   "cell_type": "markdown",
   "metadata": {},
   "source": [
    "El **contexto global** de Python es el contexto que corresponde al cuerpo principal de un script. Un objeto definido en este contexto será un objeto global y puedes acceder a el en cualquier parte del cuerpo principal del código:"
   ]
  },
  {
   "cell_type": "markdown",
   "metadata": {},
   "source": [
    "Finalmente, los **contextos locales** son aquellos que corresponden a la definición interna de funciones, clases, instancias (objetos) o a los módulos que importas. Estos contextos son capaces de usar las funciones y métodos definidos en contextos de mayor jerarquía, pero no viceversa.\n",
    "\n",
    "En general estos contextos se pueden identificar gracias a la identación (funciones y clases) y en otros no podrás verlos directamente en tu script (objetos y módulos importados).\n",
    "\n",
    "Para ver ejemplos de estos contextos empecemos de lleno con la definición de funciones"
   ]
  },
  {
   "cell_type": "markdown",
   "metadata": {},
   "source": [
    "### Funciones\n",
    "\n",
    "Una función se define con la instrucción `def` "
   ]
  },
  {
   "cell_type": "code",
   "execution_count": null,
   "metadata": {},
   "outputs": [],
   "source": [
    "def my_function(): # global function\n",
    "    \"\"\"This function receives no parameters and print a message\"\"\" # Local scope of my function\n",
    "    print(\"This is my first function\")\n",
    "    \n",
    "my_function() # global invokation of my_function"
   ]
  },
  {
   "cell_type": "markdown",
   "metadata": {},
   "source": [
    "Cuando queremos que la función reciba argumentos, debemos especificar el nombre de dichos argumentos, de esta manera Python podrá identificarlos de cualquier manera, posicional o por clave. \n",
    "\n",
    "Adivinaste, estos parámetros serán variables locales, por lo que sus nombres solo existirán dentro de la función en que están definidos. "
   ]
  },
  {
   "cell_type": "code",
   "execution_count": null,
   "metadata": {},
   "outputs": [],
   "source": [
    "def print_a_number(number):\n",
    "    \"\"\"This function receives a value, named number, increases it by one and prints it\"\"\" # Docstring\n",
    "    number += 1\n",
    "    print(\"This function print the number\", number) # number is a local variable"
   ]
  },
  {
   "cell_type": "code",
   "execution_count": null,
   "metadata": {},
   "outputs": [],
   "source": [
    "number = 6\n",
    "print_a_number(1)"
   ]
  },
  {
   "cell_type": "code",
   "execution_count": null,
   "metadata": {},
   "outputs": [],
   "source": [
    "# Now you can ask Python how to use the function, as you can see, you must enter an argument mandatory\n",
    "? print_a_number"
   ]
  },
  {
   "cell_type": "code",
   "execution_count": null,
   "metadata": {},
   "outputs": [],
   "source": [
    "# Declaring a global variable in local scope makes it available in the global scope\n",
    "\n",
    "def give_a_string():\n",
    "    global name\n",
    "    name = \"This is a string\"\n",
    "\n",
    "print(name) # Try to print name after invoking give_a_string\n",
    "give_a_string()\n"
   ]
  },
  {
   "cell_type": "markdown",
   "metadata": {},
   "source": [
    "## 5.2 Tipos de argumentos\n",
    "\n",
    "Al definir una función puedes especificar 3 diferentes tipos de argumentos para ella:\n",
    "* Posicionales u obligatorios \n",
    "* Opcionales (con valor dafult)\n",
    "* Kwargs"
   ]
  },
  {
   "cell_type": "markdown",
   "metadata": {},
   "source": [
    "### Argumentos opcionales"
   ]
  },
  {
   "cell_type": "code",
   "execution_count": null,
   "metadata": {},
   "outputs": [],
   "source": [
    "# Default values\n",
    "\n",
    "def print_a_number(number = 1, case=\"upper\"):\n",
    "    if case == \"upper\":\n",
    "        print(\"THE NUMBER IS\", number)\n",
    "    elif case == \"lower\":\n",
    "        print(\"the number is \", number)\n",
    "    else:\n",
    "        print(\"case parameter must be either 'upper' or 'lower'\")\n",
    "        \n",
    "print_a_number()"
   ]
  },
  {
   "cell_type": "code",
   "execution_count": null,
   "metadata": {},
   "outputs": [],
   "source": [
    "# Nominal parameters\n",
    "print_a_number(case =\"lower\")"
   ]
  },
  {
   "cell_type": "markdown",
   "metadata": {},
   "source": [
    "### Kwargs\n",
    "\n",
    "Los Kwargs son un set de argumentos variables, cuyos nombres la función desconoce hasta que es llamada en la rutina principal"
   ]
  },
  {
   "cell_type": "code",
   "execution_count": null,
   "metadata": {},
   "outputs": [],
   "source": [
    "def create_a_dict(**kwargs):\n",
    "    # print(kwargs['pista'])\n",
    "    my_dict = dict()\n",
    "    for k, v in kwargs.items():\n",
    "        my_dict[k] = v\n",
    "    return my_dict"
   ]
  },
  {
   "cell_type": "code",
   "execution_count": null,
   "metadata": {},
   "outputs": [],
   "source": [
    "create_a_dict(hola='Hello', adios='goodbye')"
   ]
  },
  {
   "cell_type": "code",
   "execution_count": null,
   "metadata": {},
   "outputs": [],
   "source": [
    "# Returning a value to the global scope\n",
    "def give_a_number(number = 0):\n",
    "    number += 1\n",
    "    return number\n",
    "\n",
    "print(give_a_number(), end = \" \")\n",
    "x = give_a_number(1)\n",
    "print(x)"
   ]
  },
  {
   "cell_type": "markdown",
   "metadata": {},
   "source": [
    "## 5.3 Importando modulos y librerías"
   ]
  },
  {
   "cell_type": "markdown",
   "metadata": {},
   "source": [
    "#### Módulos y librerías _an overview_ \n",
    "\n",
    "Cuando quieres invocar una función, crear un objeto de cierta clase, o invocar un método de un objeto, Python hace una busqueda entre los módulos y librerías de que dispone para encontrar dichos objetos. Si no los encuentra generará un error.\n",
    "\n",
    "Crear módulos y librerías no es complicado. Un módulo no es más que un Script de Python que colecciona muchas definiciones de funciones, clases, métodos, y en algunos casos variables. Las librerías no son más que los directorios donde se almacenan estos módulos y un script inicializador adicional. \n",
    "\n",
    "El objetivo de este curso no es profundizar en los detalles de la creación de módulos y librerías, por lo que por ahora bastará con que sepas que puedes importar los que necesites utilizando la instrucción `import`"
   ]
  },
  {
   "cell_type": "code",
   "execution_count": null,
   "metadata": {},
   "outputs": [],
   "source": [
    "# Importing a module \n",
    "import math, json\n",
    "\n",
    "# Importing a module with an alias\n",
    "import pandas as pd, requests as rq\n",
    "\n",
    "# Importing multiple modules with their alias\n",
    "import numpy as np, matplotlib.pyplot as plt"
   ]
  },
  {
   "cell_type": "markdown",
   "metadata": {},
   "source": [
    "Una vez importado los módulos adecuados puedes utilizar las funciones y cosntantes adecuadas:"
   ]
  },
  {
   "cell_type": "code",
   "execution_count": null,
   "metadata": {},
   "outputs": [],
   "source": [
    "# Pi constant from math\n",
    "math.pi"
   ]
  },
  {
   "cell_type": "code",
   "execution_count": null,
   "metadata": {},
   "outputs": [],
   "source": [
    "# Array class from Numpy\n",
    "my_array = np.array([])"
   ]
  },
  {
   "cell_type": "code",
   "execution_count": null,
   "metadata": {},
   "outputs": [],
   "source": [
    "# Plot function from pyplot\n",
    "plt.plot(range(10), range(10))"
   ]
  },
  {
   "cell_type": "code",
   "execution_count": null,
   "metadata": {},
   "outputs": [],
   "source": [
    "# Importing especific objects from modules\n",
    "from seaborn import crayons\n",
    "print(crayons[\"Aquamarine\"])"
   ]
  },
  {
   "cell_type": "code",
   "execution_count": null,
   "metadata": {},
   "outputs": [],
   "source": [
    "import requests\n",
    "# \"https//l2f0u8s3pc.execute-api.us-west-1.amazonaws.com/poc/poc-tcs-dashboard/{file}\"\n",
    "api_url = \"https://l2f0u8s3pc.execute-api.us-west-1.amazonaws.com/poc/poc-tcs-dashboard/historical_calls.json\"\n",
    "response = requests.get(api_url)\n",
    "calls = response.json()\n",
    "print(calls)"
   ]
  },
  {
   "cell_type": "code",
   "execution_count": null,
   "metadata": {},
   "outputs": [],
   "source": [
    "from requests import get\n",
    "api_url = \"https://l2f0u8s3pc.execute-api.us-west-1.amazonaws.com/poc/list_rules\"\n",
    "response = get(api_url)\n",
    "response.json()"
   ]
  },
  {
   "cell_type": "code",
   "execution_count": null,
   "metadata": {},
   "outputs": [],
   "source": [
    "import requests as rq\n",
    "import json\n",
    "\n",
    "api_url = \"https://l2f0u8s3pc.execute-api.us-west-1.amazonaws.com/poc/schedule_report\"\n",
    "body = {\n",
    "    \"expression_type\": \"rate\",\n",
    "    \"expression_rule\":\"15 days\",\n",
    "    \"report_type\": \"calls\",\n",
    "    \"report_range\": \"monthly\",\n",
    "    \"to_email\": [\n",
    "        \"mail.devtest190@gmail.com\"\n",
    "    ]\n",
    "}\n",
    "headers =  {\"Content-Type\":\"application/json\"}\n",
    "\n",
    "\n",
    "response = rq.post(api_url, data=json.dumps(body), headers=headers) #try json instead o data\n",
    "response.json()"
   ]
  },
  {
   "cell_type": "markdown",
   "metadata": {},
   "source": [
    "## 5.4. Lambda functions\n",
    "\n",
    "Python tiene su propia version de funciones anónimas, principalmente usadas en programación funcional, para ahorrar memoria al momento de realizar operaciones sencillas. Éstas son llamadas lambda functions"
   ]
  },
  {
   "cell_type": "code",
   "execution_count": null,
   "metadata": {},
   "outputs": [],
   "source": [
    "fun = lambda x: x-3\n",
    "fun(3)"
   ]
  },
  {
   "cell_type": "code",
   "execution_count": null,
   "metadata": {},
   "outputs": [],
   "source": [
    "(lambda a, b: a**b)(2,4)"
   ]
  },
  {
   "cell_type": "markdown",
   "metadata": {},
   "source": [
    "## 5.5 Built-in functions útiles"
   ]
  },
  {
   "cell_type": "code",
   "execution_count": null,
   "metadata": {},
   "outputs": [],
   "source": []
  }
 ],
 "metadata": {
  "kernelspec": {
   "display_name": "Python 3",
   "language": "python",
   "name": "python3"
  },
  "language_info": {
   "codemirror_mode": {
    "name": "ipython",
    "version": 3
   },
   "file_extension": ".py",
   "mimetype": "text/x-python",
   "name": "python",
   "nbconvert_exporter": "python",
   "pygments_lexer": "ipython3",
   "version": "3.8.3"
  }
 },
 "nbformat": 4,
 "nbformat_minor": 4
}
