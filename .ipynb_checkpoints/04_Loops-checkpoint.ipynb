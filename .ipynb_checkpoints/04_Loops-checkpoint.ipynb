{
 "cells": [
  {
   "cell_type": "markdown",
   "metadata": {},
   "source": [
    "# 4. Estructuras cíclicas\n",
    "\n",
    "<a id=’doc’></a>\n",
    "### Documentación\n",
    "\n",
    "***Documentación oficial de Python:*** https://www.python.org/doc/ \n",
    "\n",
    "### Contenido\n",
    "\n",
    "* Ciclos iterativos (for)\n",
    "* Iteradores vs Iterables\n",
    "* Cíclos condicionales (while)\n",
    "* Keywords for loops\n",
    "* Comprenhension expressions\n",
    "\n",
    "### Recursos\n"
   ]
  },
  {
   "cell_type": "markdown",
   "metadata": {},
   "source": [
    "## 4.1. Ciclos iterativos (`for`)\n",
    "\n",
    "Las estructuras cíclicas sirven para automatizar procesos repetitivos. Existen dos tipos de ciclos básicos, los cuales son:\n",
    "\n",
    "* Loops condicionales\n",
    "* Loops iterativos\n",
    "\n",
    "Los ciclos iterativos se definen utilizando la keyword `for` seguido de una variable de iteración que nos permite controlar el paso en el que estamos:"
   ]
  },
  {
   "cell_type": "code",
   "execution_count": null,
   "metadata": {},
   "outputs": [],
   "source": [
    "# Iterating through lists\n",
    "my_list = [1, 2, 3, 4, 5]\n",
    "\n",
    "for number in my_list:\n",
    "    print(\"Even number:\", number, end= \"\\n\") if number%2==0 else print(\"Odd number:\", number, end= \"\\n\") \n",
    "    \n",
    "\"\"\"for number in my_list:\n",
    "    index = number - 1\n",
    "    print(my_list[index], end = \" \")\"\"\""
   ]
  },
  {
   "cell_type": "code",
   "execution_count": null,
   "metadata": {},
   "outputs": [],
   "source": [
    "my_tuple = tuple(range(1,101))\n",
    "even_numbers = []\n",
    "odd_numbers = list()\n",
    "natural_numbers = []\n",
    "\n",
    "for number in my_tuple:\n",
    "    \n",
    "        \n",
    "print(number)\n",
    "print(even_numbers)\n",
    "print(natural_numbers)"
   ]
  },
  {
   "cell_type": "markdown",
   "metadata": {},
   "source": [
    "## 4.2 Iteradores vs Iterables\n",
    "\n",
    "En python, los ciclos iterativos utilizan un tipo especial de objeto llamado iterador a través del cuál repiten una subrutina un numéro finito de veces. Las estructuras de datos a partir de las cuáles python puede crear iteradores se les llama objetos iterables."
   ]
  },
  {
   "cell_type": "code",
   "execution_count": null,
   "metadata": {},
   "outputs": [],
   "source": [
    "# Iterating through ranges\n",
    "for number in range(5): # Try to create a range starting in 3, or a decremental range. \n",
    "    print(number, end = \" \")"
   ]
  },
  {
   "cell_type": "code",
   "execution_count": null,
   "metadata": {},
   "outputs": [],
   "source": [
    "# Iterating through dictionaries\n",
    "my_dict = {\"orange\" : \"naranja\", \"blue\" : \"azul\", \"purple\" : \"morado\"}\n",
    "\n",
    "for color in my_dict:\n",
    "    print(color, \"is said\", my_dict[color], \"in spanish\")"
   ]
  },
  {
   "cell_type": "code",
   "execution_count": null,
   "metadata": {},
   "outputs": [],
   "source": [
    "# Iterating to strings\n",
    "word = []\n",
    "for character in \"Programming\":\n",
    "    word.append(character)\n",
    "print(word)"
   ]
  },
  {
   "cell_type": "markdown",
   "metadata": {},
   "source": [
    "## 4.3 Ciclos condicionales\n",
    "\n",
    "Los loops condicionales son rutinas que se ejecutan mientras una condición lógica sea cierta. Se crean con la instrucción `while`"
   ]
  },
  {
   "cell_type": "code",
   "execution_count": null,
   "metadata": {
    "scrolled": true
   },
   "outputs": [],
   "source": [
    "counter = 0\n",
    "while counter <= 5:\n",
    "    print(counter, end = \" \")\n",
    "    counter += 1"
   ]
  },
  {
   "cell_type": "markdown",
   "metadata": {},
   "source": [
    "Con estos cíclos debes ser muy cuidadosos de que no generar loops infinitos:"
   ]
  },
  {
   "cell_type": "code",
   "execution_count": null,
   "metadata": {
    "scrolled": true
   },
   "outputs": [],
   "source": [
    "# Pay attention at kernell satuts\n",
    "while counter > 0:\n",
    "    counter += 1\n",
    "print(counter)\n",
    "# Interrupt the porccess by typing ctrl+c"
   ]
  },
  {
   "cell_type": "markdown",
   "metadata": {},
   "source": [
    "## 4.4 Instrucciones auxiliares en ciclos:\n",
    "\n",
    "Existen tres instrucciones auxiliares que ayudan al uso de estas estructuras:\n",
    "* `pass`: Indica a la estructura que continue ejecutando la subrutina en la manera en que lo estaba haciendo.\n",
    "* `continue`: Indica que debe interrumpir el paso que está ejecutando actualmente y continuar con el siguiente paso\n",
    "* `break`: Indica que debe interrumpir por completo la ejecución de la estructura"
   ]
  },
  {
   "cell_type": "code",
   "execution_count": null,
   "metadata": {
    "scrolled": true
   },
   "outputs": [],
   "source": [
    "my_list = [0, 1 , 2]\n",
    "\n",
    "for i in my_list:\n",
    "    if i == 0:\n",
    "        pass\n",
    "        print(i, end = \" \")\n",
    "    elif i == 1:\n",
    "        continue\n",
    "        print(i, end = \" \")\n",
    "    elif i == 2:\n",
    "        print(i, end = \" \")\n",
    "        break\n",
    "    else:\n",
    "        print(':O', end=\"\\n\")\n",
    "    my_list.append(i+2)\n",
    "    \n",
    "\n",
    "print(my_list)"
   ]
  },
  {
   "cell_type": "markdown",
   "metadata": {},
   "source": [
    "## 4.5. Comprenhension expressions\n",
    "\n",
    "Una de las herramientas más poderosas de python son las comprenhension expressions. Que nos permiten crear secuencias personalizadas a partir de reglas que pueden ser iteradas."
   ]
  },
  {
   "cell_type": "code",
   "execution_count": 1,
   "metadata": {},
   "outputs": [
    {
     "name": "stdout",
     "output_type": "stream",
     "text": [
      "[0, 1, 2, 3, 4, 5, 6, 7, 8, 9]\n",
      "[0, 2, 4, 6, 8, 10, 12, 14, 16, 18, 20, 22, 24, 26, 28, 30, 32, 34, 36, 38, 40, 42, 44, 46, 48, 50, 52, 54, 56, 58, 60, 62, 64, 66, 68, 70, 72, 74, 76, 78, 80, 82, 84, 86, 88, 90, 92, 94, 96, 98, 100]\n"
     ]
    }
   ],
   "source": [
    "# List comprenhension\n",
    "my_list = [i for i in range(10)]\n",
    "even_numbers = [n for n in range(101) if n%2==0]\n",
    "print(my_list)\n",
    "print(even_numbers)"
   ]
  },
  {
   "cell_type": "code",
   "execution_count": null,
   "metadata": {},
   "outputs": [],
   "source": [
    "# Dict comprenhension\n",
    "my_dict={}\n",
    "my_dict_copy = {k:v for k,v in my_dict.items()}"
   ]
  }
 ],
 "metadata": {
  "kernelspec": {
   "display_name": "Python 3",
   "language": "python",
   "name": "python3"
  },
  "language_info": {
   "codemirror_mode": {
    "name": "ipython",
    "version": 3
   },
   "file_extension": ".py",
   "mimetype": "text/x-python",
   "name": "python",
   "nbconvert_exporter": "python",
   "pygments_lexer": "ipython3",
   "version": "3.8.3"
  }
 },
 "nbformat": 4,
 "nbformat_minor": 4
}
