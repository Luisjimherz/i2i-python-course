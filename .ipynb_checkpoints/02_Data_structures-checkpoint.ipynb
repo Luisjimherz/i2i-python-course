{
 "cells": [
  {
   "cell_type": "markdown",
   "metadata": {},
   "source": [
    "# 1. Estructuras de datos\n",
    "\n",
    "<a id=’doc’></a>\n",
    "### Documentación\n",
    "\n",
    "***Documentación oficial de Python:*** https://www.python.org/doc/\n",
    "\n",
    "***Objetos de la librería estándar de Python:*** https://docs.python.org/3/library/ \n",
    "\n",
    "### Contenido\n",
    "\n",
    "* Colecciones indexadas\n",
    "    * Listas\n",
    "    * Tuplas\n",
    "* Colecciones no indexadas\n",
    "    * Sets\n",
    "    * Diccionarios\n",
    "* Ordenamiento vs indexación\n",
    "\n",
    "### Recursos\n",
    "\n",
    "***Style guide for Python Code:*** https://www.python.org/dev/peps/pep-0008/\n",
    "\n",
    "***Funny (and useful) tutorials:*** https://realpython.com"
   ]
  },
  {
   "cell_type": "markdown",
   "metadata": {},
   "source": [
    "## 1.1 Colecciones indexadas"
   ]
  },
  {
   "cell_type": "markdown",
   "metadata": {},
   "source": [
    "### Listas\n",
    "\n",
    "Las listas son colecciones de datos ordenadas (cero-indexadas) y mutables y se definen como se muestra a continuación"
   ]
  },
  {
   "cell_type": "code",
   "execution_count": null,
   "metadata": {
    "scrolled": false
   },
   "outputs": [],
   "source": [
    "my_list = [\"manzana\", \"banana\", \"cherry\", \"peach\", \"watermelon\", \"grape\", \"strawberry\"]\n",
    "print(my_list)"
   ]
  },
  {
   "cell_type": "code",
   "execution_count": null,
   "metadata": {
    "scrolled": true
   },
   "outputs": [],
   "source": [
    "type(my_list)"
   ]
  },
  {
   "cell_type": "markdown",
   "metadata": {},
   "source": [
    "En el ejemplo anterior, creamos una lista cuyos elementos son objetos de tipo string. Nota que la función `print`que hemos usado para imprimir el contenido de una variable en el pasado, en este caso imprime todos los elementos de la lista, porque todos estan almacenados en la misma variable. Para acceder a un valor en específico de la lista lo hacemos a través de su índice:"
   ]
  },
  {
   "cell_type": "code",
   "execution_count": null,
   "metadata": {
    "scrolled": true
   },
   "outputs": [],
   "source": [
    "print(my_list[0], type(my_list[0]))"
   ]
  },
  {
   "cell_type": "markdown",
   "metadata": {},
   "source": [
    "Las listas son estructuras muy felxibles, pueden almacenar elementos de distinta naturaleza, incluyendo otras listas:"
   ]
  },
  {
   "cell_type": "code",
   "execution_count": null,
   "metadata": {},
   "outputs": [],
   "source": [
    "party = [500, \"cake\", [\"ballons\", \"Banner\"]]"
   ]
  },
  {
   "cell_type": "markdown",
   "metadata": {},
   "source": [
    "Cuando decimos que una lista es mutable, nos referimos a que los valores de sus elementos pueden ser reasignados, individual o colectivamente"
   ]
  },
  {
   "cell_type": "code",
   "execution_count": null,
   "metadata": {},
   "outputs": [],
   "source": [
    "numbers = [1, 2, 3, 4, 5,]\n",
    "print(numbers)"
   ]
  },
  {
   "cell_type": "markdown",
   "metadata": {},
   "source": [
    "#### Indexing"
   ]
  },
  {
   "cell_type": "code",
   "execution_count": null,
   "metadata": {},
   "outputs": [],
   "source": [
    "print(numbers)\n",
    "numbers[2] = [6, 7, 8, 9, 10]\n",
    "print(numbers)"
   ]
  },
  {
   "cell_type": "markdown",
   "metadata": {
    "scrolled": false
   },
   "source": [
    "#### Slicing"
   ]
  },
  {
   "cell_type": "code",
   "execution_count": null,
   "metadata": {},
   "outputs": [],
   "source": [
    "numbers[1:4] = [2, 3, 4, 5]"
   ]
  },
  {
   "cell_type": "markdown",
   "metadata": {},
   "source": [
    "#### Longitud de una lista\n",
    "\n",
    "Muchas veces es necesario conocer la longitud de una lista. Contar cada uno de los elementos que la conforman no es conveniente cundo trabajamos con estructuras que almacenan una gran cantidad de datos. Para ello podemos usar la función `len`, tal como en el ejemplo de algunas celdas arriba:"
   ]
  },
  {
   "cell_type": "code",
   "execution_count": null,
   "metadata": {
    "scrolled": true
   },
   "outputs": [],
   "source": [
    "len(my_list)"
   ]
  },
  {
   "cell_type": "code",
   "execution_count": null,
   "metadata": {},
   "outputs": [],
   "source": [
    "# ¿Cuál es el error?\n",
    "my_list[len(my_list)]"
   ]
  },
  {
   "cell_type": "markdown",
   "metadata": {},
   "source": [
    "#### Eliminar elementos de una lista \n",
    "\n",
    "La instrucción `del`sirve para eliminar elementos en una lista por su índice. "
   ]
  },
  {
   "cell_type": "code",
   "execution_count": null,
   "metadata": {},
   "outputs": [],
   "source": [
    "del my_list[-1]  #Qué hace el índice negativo?"
   ]
  },
  {
   "cell_type": "markdown",
   "metadata": {},
   "source": [
    "#### Copiando listas\n",
    "\n",
    "Cuando es necesario crear copias de listas, es muy importante entender como es que Python realiza las asignaciones de listas a las variables, pues difiere un poco a la asignación de escalares. \n",
    "\n",
    "La asignación de listas a avariabes sigue realizando de derecha a izquierda, pero existe una diferecia crucial, el nombre de la lista se asocia a la locación de la memoria donde la lista es guardada, no al valor que tiene como es en el caso de los escalares"
   ]
  },
  {
   "cell_type": "code",
   "execution_count": null,
   "metadata": {},
   "outputs": [],
   "source": [
    "list_copy = my_list \n",
    "print(list_copy)"
   ]
  },
  {
   "cell_type": "code",
   "execution_count": null,
   "metadata": {},
   "outputs": [],
   "source": [
    "del my_list[5:]"
   ]
  },
  {
   "cell_type": "code",
   "execution_count": null,
   "metadata": {},
   "outputs": [],
   "source": [
    "print(list_copy)"
   ]
  },
  {
   "cell_type": "markdown",
   "metadata": {},
   "source": [
    "Como puedes notar, cuando a una variable (en este caso `list_copy`) le asignamos otra previamente definida como una lista, no estamos asignado el contenido de la primera, si no su nombre. Esto quiere decir que `list_copy` es una _referencia_ del objeto `list` y por lo tanto cada vez que modifiquemos `list` podremos ver esos cambios cada vez que llamemos a `list_copy`\n",
    "\n",
    "El método `copy` es usado para duplicar el contenido de una variable y asignarlo a otra."
   ]
  },
  {
   "cell_type": "code",
   "execution_count": null,
   "metadata": {
    "scrolled": true
   },
   "outputs": [],
   "source": [
    "list_copy = my_list.copy()\n",
    "print(list_copy)"
   ]
  },
  {
   "cell_type": "code",
   "execution_count": null,
   "metadata": {
    "scrolled": true
   },
   "outputs": [],
   "source": [
    "my_list.clear()\n",
    "print(my_list, list_copy)"
   ]
  },
  {
   "cell_type": "markdown",
   "metadata": {},
   "source": [
    "Otra forma de hacerlo es llamando a los valores indexados de la lista que queremos copiar. Esto funciona porque al llamar a los elementos previa a una asignación, lo que le decimos a la variables es que almacene objetos contenidos dentro de la lista, no el nombre de la lista."
   ]
  },
  {
   "cell_type": "code",
   "execution_count": null,
   "metadata": {},
   "outputs": [],
   "source": [
    "my_list =[1, 2, 3, 4, 5]\n",
    "list_copy = my_list[ 0 : len(my_list)]  # Prueba esto list_copy = my_list[:]\n",
    "my_list.clear()\n",
    "print(my_list, list_copy)"
   ]
  },
  {
   "cell_type": "markdown",
   "metadata": {},
   "source": [
    "### Tuplas\n",
    "\n",
    "Al igual que las listas, las tuplas son una colección de datos ordenada. Esto quiere decir que son estructuras de datos indexadas y que podemos consultar sus elementos a tráves de su índice de la misma forma que lo hacemos con las listas. La característica principal que diferencia una tupla de una lista, es que la tupla es inmutable, es decir, una vez que es definida sus elementos no pueden cambiar. "
   ]
  },
  {
   "cell_type": "code",
   "execution_count": null,
   "metadata": {},
   "outputs": [],
   "source": [
    "my_tuple = (\"apple\", \"banana\", \"cherry\")"
   ]
  },
  {
   "cell_type": "code",
   "execution_count": null,
   "metadata": {
    "scrolled": true
   },
   "outputs": [],
   "source": [
    "print(my_tuple[0])"
   ]
  },
  {
   "cell_type": "code",
   "execution_count": null,
   "metadata": {
    "scrolled": true
   },
   "outputs": [],
   "source": [
    "my_tuple[0] = \"grape\""
   ]
  },
  {
   "cell_type": "markdown",
   "metadata": {},
   "source": [
    "### Sets\n",
    "\n",
    "Los sets son colecciones no indexadas, no ordenadas de datos. Por lo tanto no podemos llamar a sus elementos de la manera que lo hacíamos con las estructuras anteriores"
   ]
  },
  {
   "cell_type": "code",
   "execution_count": null,
   "metadata": {},
   "outputs": [],
   "source": [
    "my_set = {\"a\", 1, 2, 3, 4 , \"b\", 5}"
   ]
  },
  {
   "cell_type": "code",
   "execution_count": null,
   "metadata": {
    "scrolled": true
   },
   "outputs": [],
   "source": [
    "my_set[\"a\"]"
   ]
  },
  {
   "cell_type": "code",
   "execution_count": null,
   "metadata": {},
   "outputs": [],
   "source": [
    "print(my_set)"
   ]
  },
  {
   "cell_type": "markdown",
   "metadata": {},
   "source": [
    "### Diccionarios\n",
    "\n",
    "El diccionario otro tipo de colección no indexada que almacena objetos a través de un sistema llave-valor. Pero a diferencia de los sets, si son estructuras ordenadas. \n",
    "\n",
    "La llave es el identificador del que tiene asociado y por lo tanto, dicho objeto es accesible a través de su llave. Estas llaves deben ser únicas y pueden ser de cualquier tipo de dato. "
   ]
  },
  {
   "cell_type": "code",
   "execution_count": null,
   "metadata": {},
   "outputs": [],
   "source": [
    "my_dictionary = {\"cat\" : \"gato\", \"dog\" : \"perro\", \"horse\" : \"caballo\"}"
   ]
  },
  {
   "cell_type": "code",
   "execution_count": null,
   "metadata": {},
   "outputs": [],
   "source": [
    "my_dictionary[\"cat\"]"
   ]
  },
  {
   "cell_type": "code",
   "execution_count": null,
   "metadata": {},
   "outputs": [],
   "source": [
    "my_dictionary[\"gato\"]"
   ]
  },
  {
   "cell_type": "markdown",
   "metadata": {},
   "source": [
    "Como puedes darte cuenta, los diccionarios son uni-direccionados. Podemos encontrar un valor a partir de su llave, pero no viceversa. "
   ]
  },
  {
   "cell_type": "code",
   "execution_count": null,
   "metadata": {
    "scrolled": false
   },
   "outputs": [],
   "source": [
    "print(my_dictionary)"
   ]
  },
  {
   "cell_type": "markdown",
   "metadata": {},
   "source": [
    "Otros métodos muy utilizados en diccionarios son: `items` que devuelve una secuencia de tuplas donde cada tupla tiene los valores de llave y valor de cada elemento del diccionario."
   ]
  },
  {
   "cell_type": "code",
   "execution_count": null,
   "metadata": {},
   "outputs": [],
   "source": [
    "elements = list(my_dictionary.items())\n",
    "english, spanish = elements[0][0], elements[0][1]\n",
    "print(english, spanish)"
   ]
  },
  {
   "cell_type": "markdown",
   "metadata": {},
   "source": [
    "y el método `values` que es análogo a `keys`.\n",
    "\n",
    "#### Añadir/cambiar elementos al diccionario"
   ]
  },
  {
   "cell_type": "markdown",
   "metadata": {},
   "source": [
    "Las estrategias para añadir o modificar los valores asociados a una llave son los mismos. Existen dos maneras de hacerlo. La primera consiste en reasignar el valor de un elemento a su llave. Si la llave ya existe, se reemplazará el valor asociado a él, si la llave no existe se creará un nuevo elemento en el diccionario."
   ]
  },
  {
   "cell_type": "code",
   "execution_count": null,
   "metadata": {},
   "outputs": [],
   "source": [
    "my_dictionary[\"bird\"] = \"pájaro\""
   ]
  },
  {
   "cell_type": "code",
   "execution_count": null,
   "metadata": {},
   "outputs": [],
   "source": [
    "print(my_dictionary)"
   ]
  },
  {
   "cell_type": "markdown",
   "metadata": {},
   "source": [
    "### Ordenamiento vs indexación\n",
    "\n",
    "#### Secuencias en Python\n",
    "\n",
    "Una secuencia de datos en Python es una estructura de datos ordenados tal como los strigns, las listas y las tuplas. Una de sus principales funciones es durante procesos iterativos, ya que python requiere que el objeto sobre el que se va a iterar tenga un orden lógico."
   ]
  },
  {
   "cell_type": "code",
   "execution_count": null,
   "metadata": {},
   "outputs": [],
   "source": [
    "my_string = \"This is my string\"\n",
    "first_char = my_string[0]\n",
    "my_substring = my_string[11:]\n",
    "print(first_char, my_substring)"
   ]
  },
  {
   "cell_type": "markdown",
   "metadata": {},
   "source": [
    "#### Ordenamiento en Python\n",
    "\n",
    "Para versiones menores a Python3.6, las estructutras ordenadas son exclusivamente las estructuras indexadas. Por otra parte a partir de la version 3.6 una estructura ordenada es aquella que tiene una regla lógica que determina la posición de cada uno de sus elementos, la indexación es una de ellas, pero también la declaración posicional de los elementos de una estructura.\n",
    "\n",
    "#### ¿Los diccionarios son secuencias?\n",
    "\n",
    "A partir de Python3.6 se establecieron los diccionarios como estructuras ordenadas posicionalmente. **Siguen siendo estructuras no indexadas** pero están ordenadas posicionalmente, de manera que para versiones Python3.6 o superiores, los diccionarios pueden ser usados como objetos iterables. "
   ]
  },
  {
   "cell_type": "code",
   "execution_count": null,
   "metadata": {
    "scrolled": false
   },
   "outputs": [],
   "source": [
    "my_set = {1, \"A\", 4, (6, 7, 3)}\n",
    "my_dict = {1: \"one\", \"a\":\"A\", \"four\":4, \"tuple\":(6, 7, 3)}"
   ]
  },
  {
   "cell_type": "code",
   "execution_count": null,
   "metadata": {},
   "outputs": [],
   "source": [
    "print(my_set)\n",
    "print(my_dict)"
   ]
  }
 ],
 "metadata": {
  "kernelspec": {
   "display_name": "Python 3",
   "language": "python",
   "name": "python3"
  },
  "language_info": {
   "codemirror_mode": {
    "name": "ipython",
    "version": 3
   },
   "file_extension": ".py",
   "mimetype": "text/x-python",
   "name": "python",
   "nbconvert_exporter": "python",
   "pygments_lexer": "ipython3",
   "version": "3.8.3"
  }
 },
 "nbformat": 4,
 "nbformat_minor": 4
}
