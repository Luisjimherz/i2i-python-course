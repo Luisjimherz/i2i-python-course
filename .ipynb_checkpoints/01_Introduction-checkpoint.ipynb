{
 "cells": [
  {
   "cell_type": "markdown",
   "metadata": {},
   "source": [
    "# 1. Introducción al lenguaje: Python\n",
    "\n",
    "<a id=’doc’></a>\n",
    "### Documentación\n",
    "\n",
    "***Documentación oficial de Python:*** https://www.python.org/doc/\n",
    "\n",
    "***Objetos de la librería estándar de Python:*** https://docs.python.org/3/library/ \n",
    "\n",
    "### Contenido\n",
    "\n",
    "* Objetos en Python\n",
    "* Tipos de datos\n",
    "* Estructuras de Datos\n",
    "* Estructuras de control\n",
    "* Estructuras de Itereción\n",
    "\n",
    "### Recursos\n",
    "\n",
    "***Style guide for Python Code:*** https://www.python.org/dev/peps/pep-0008/\n",
    "\n",
    "***Funny (and useful) tutorials:*** https://realpython.com"
   ]
  },
  {
   "cell_type": "markdown",
   "metadata": {},
   "source": [
    "## 1.1 Objetos en Python\n",
    "\n",
    "Lo primero que debes saber si nunca has programado en Python es que su principal paradigma es la **progrmación orientada a objetos**. \n",
    "\n",
    "Todas las entidades con las que trabajaremos (variables, estructuras de datos, funciones y más) son considerados por el intérprete como objetos con propiedades y funcionalidades definidas por su _clase_ (tipo de objeto). \n",
    "\n",
    "Algunos de los tipos de datos construidos en la librería estándar de Python son:\n",
    "\n",
    "1. **String** Los strings son cadenas de caractéres que representan letras, palabras, frases e incluso estructuras más complejas. En python los strings se definen utilizando las comillas simples`'This is a string` o dobles `\"This is also a string\"`\n",
    "\n",
    "2. **Numeric** Los numeric son secuencias de dígitos y representan valores numéricos. Estos numeros pueden ingresarse en forma decimal `123`, octal `0o123`y hexadecimal `0x123`. Estos a su vez pueden dividirse en otro tipo de objetos: \n",
    "    * Integer\n",
    "    * Float\n",
    "    * Complex\n",
    "3. **Bolean** Los boleans son expresiones lógicas (Verdadero o falso)\n",
    "4. **Sequence** Son objetos que contienen un conunto ordenado de más objetos. A veces estas estructuras pueden contener elementos del mismo tipo, otras no, y tienen diferentes usos y aplicaciones. Estas estructuras incluyen:\n",
    "    * Listas\n",
    "    * Tuplas\n",
    "    * Rangos\n",
    "5. **Dictionary** Los diccionarios son conjuntos de datos no ordenados. \n",
    "6. **Exceptions** Son el objeto en el que se almacenan los errores producidos durante la interpretación del código.\n",
    " "
   ]
  },
  {
   "cell_type": "markdown",
   "metadata": {},
   "source": [
    "## 1.2 Variables en Python"
   ]
  },
  {
   "cell_type": "markdown",
   "metadata": {},
   "source": [
    "Las **variables** son objetos utilizados para almacenar los resultados de las expresiones ejecutadas, cualquier tipo de expresión que devuelva un objeto e incluso más de uno. Los atributos de una variable son, esencialmente, dos: **Nombre** y **Valor**. Una variable es creada una vez que le asignamos un valor y desde ese momento puede ser utilizado más adelante en el código por su nombre. No necesita ser declarada explícitamente."
   ]
  },
  {
   "cell_type": "code",
   "execution_count": 1,
   "metadata": {},
   "outputs": [],
   "source": [
    "my_var = 'Hola_mundo'"
   ]
  },
  {
   "cell_type": "code",
   "execution_count": 2,
   "metadata": {
    "scrolled": false
   },
   "outputs": [
    {
     "name": "stdout",
     "output_type": "stream",
     "text": [
      "Hola_mundo\n"
     ]
    }
   ],
   "source": [
    "print(my_var) "
   ]
  },
  {
   "cell_type": "code",
   "execution_count": 19,
   "metadata": {
    "scrolled": true
   },
   "outputs": [
    {
     "name": "stdout",
     "output_type": "stream",
     "text": [
      "This is a string variable\n"
     ]
    }
   ],
   "source": [
    "text = \"This is a string variable\"\n",
    "print(text)"
   ]
  },
  {
   "cell_type": "code",
   "execution_count": 28,
   "metadata": {
    "scrolled": true
   },
   "outputs": [
    {
     "name": "stdout",
     "output_type": "stream",
     "text": [
      "1 <class 'int'>\n",
      "-1 <class 'int'>\n",
      "1.0 <class 'float'>\n",
      "0.4 <class 'float'>\n",
      "100.0 <class 'float'>\n",
      "True <class 'bool'>\n",
      "None <class 'NoneType'>\n",
      "a <class 'str'>\n"
     ]
    }
   ],
   "source": [
    "a = 1\n",
    "b = -1\n",
    "c = 1. # x = 1.0\n",
    "d = 0.4 # x = .4\n",
    "e = 1e2 # x = 1E2\n",
    "f = True\n",
    "g = None\n",
    "h = \"a\"\n",
    "\n",
    "print(a, type(a))\n",
    "print(b, type(b))\n",
    "print(c, type(c))\n",
    "print(d, type(d))\n",
    "print(e, type(e))\n",
    "print(f, type(f))\n",
    "print(g, type(g))\n",
    "print(h, type(h))"
   ]
  },
  {
   "cell_type": "code",
   "execution_count": 20,
   "metadata": {},
   "outputs": [
    {
     "name": "stdout",
     "output_type": "stream",
     "text": [
      "100 <class 'int'>\n"
     ]
    }
   ],
   "source": [
    "my_variable = 100\n",
    "print(my_variable, type(my_variable))"
   ]
  },
  {
   "cell_type": "code",
   "execution_count": 23,
   "metadata": {
    "scrolled": true
   },
   "outputs": [
    {
     "name": "stdout",
     "output_type": "stream",
     "text": [
      "1.0 <class 'float'>\n"
     ]
    }
   ],
   "source": [
    "operated_variable = my_variable / 100 # Prueba con la división entera \n",
    "print(operated_variable, type(operated_variable))"
   ]
  },
  {
   "cell_type": "markdown",
   "metadata": {},
   "source": [
    "Determinar el tipo de un objeto mediante coerción o _Casting_ es muy sencillo. Cada clase puede ser en sí misma una función para tal efecto. Además la naturaleza dinámica de Python permite al lenguaje interpretar las expresiones ejecutadas y cambir el tipo de objeto, por ejemplo de una variable, en función de las necesidades del programa"
   ]
  },
  {
   "cell_type": "code",
   "execution_count": 25,
   "metadata": {
    "scrolled": false
   },
   "outputs": [
    {
     "data": {
      "text/plain": [
       "int"
      ]
     },
     "execution_count": 25,
     "metadata": {},
     "output_type": "execute_result"
    }
   ],
   "source": [
    "integer = 1\n",
    "type(integer)"
   ]
  },
  {
   "cell_type": "code",
   "execution_count": 30,
   "metadata": {},
   "outputs": [
    {
     "data": {
      "text/plain": [
       "float"
      ]
     },
     "execution_count": 30,
     "metadata": {},
     "output_type": "execute_result"
    }
   ],
   "source": [
    "integer = float(integer)\n",
    "type(integer)"
   ]
  },
  {
   "cell_type": "code",
   "execution_count": 31,
   "metadata": {},
   "outputs": [
    {
     "data": {
      "text/plain": [
       "int"
      ]
     },
     "execution_count": 31,
     "metadata": {},
     "output_type": "execute_result"
    }
   ],
   "source": [
    "integer = 1\n",
    "type(integer)"
   ]
  },
  {
   "cell_type": "markdown",
   "metadata": {},
   "source": [
    "Una ventaja de Python es que es posible realizar asignaciones de valores a varias variables de manera simultánea, lo cuál sireve para reducir las líneas de código"
   ]
  },
  {
   "cell_type": "code",
   "execution_count": 97,
   "metadata": {
    "scrolled": false
   },
   "outputs": [
    {
     "name": "stdout",
     "output_type": "stream",
     "text": [
      "1 2 3\n"
     ]
    }
   ],
   "source": [
    "x, y, z = 1, 2, 3\n",
    "print(x, y, z)"
   ]
  },
  {
   "cell_type": "code",
   "execution_count": 3,
   "metadata": {
    "scrolled": true
   },
   "outputs": [
    {
     "ename": "TypeError",
     "evalue": "can only concatenate str (not \"int\") to str",
     "output_type": "error",
     "traceback": [
      "\u001b[1;31m---------------------------------------------------------------------------\u001b[0m",
      "\u001b[1;31mTypeError\u001b[0m                                 Traceback (most recent call last)",
      "\u001b[1;32m<ipython-input-3-68cd104bb2ed>\u001b[0m in \u001b[0;36m<module>\u001b[1;34m\u001b[0m\n\u001b[0;32m      2\u001b[0m \u001b[0mmy_num\u001b[0m \u001b[1;33m=\u001b[0m \u001b[1;36m2\u001b[0m\u001b[1;33m\u001b[0m\u001b[1;33m\u001b[0m\u001b[0m\n\u001b[0;32m      3\u001b[0m \u001b[1;33m\u001b[0m\u001b[0m\n\u001b[1;32m----> 4\u001b[1;33m \u001b[0mvsum\u001b[0m \u001b[1;33m=\u001b[0m \u001b[0mmy_str\u001b[0m \u001b[1;33m+\u001b[0m \u001b[0mmy_num\u001b[0m\u001b[1;33m\u001b[0m\u001b[1;33m\u001b[0m\u001b[0m\n\u001b[0m",
      "\u001b[1;31mTypeError\u001b[0m: can only concatenate str (not \"int\") to str"
     ]
    }
   ],
   "source": [
    "my_str = \"1\"\n",
    "my_num = 2\n",
    "\n",
    "vsum = my_str + my_num"
   ]
  },
  {
   "cell_type": "code",
   "execution_count": 24,
   "metadata": {
    "scrolled": true
   },
   "outputs": [
    {
     "ename": "SyntaxError",
     "evalue": "invalid syntax (<ipython-input-24-1e399fbe0764>, line 1)",
     "output_type": "error",
     "traceback": [
      "\u001b[1;36m  File \u001b[1;32m\"<ipython-input-24-1e399fbe0764>\"\u001b[1;36m, line \u001b[1;32m1\u001b[0m\n\u001b[1;33m    import = 123\u001b[0m\n\u001b[1;37m           ^\u001b[0m\n\u001b[1;31mSyntaxError\u001b[0m\u001b[1;31m:\u001b[0m invalid syntax\n"
     ]
    }
   ],
   "source": [
    "import = 123"
   ]
  },
  {
   "cell_type": "markdown",
   "metadata": {},
   "source": [
    "Las reglas sintácticas para los nombres de las variables en Python son muy estrictas, y son las siguientes:\n",
    "\n",
    "1. Solo se pueden utilizar caractéres alfanuméricos (mayúsculas o minimisculas) y el guión bajo \\\"_\\\" . Incluso se pueden usar caractéres de otros alfabetos que no sean los propios del inglés. \n",
    "2. El nombre debe comenzar con una letra o el guión bajo.\n",
    "3. Los nombres son sensibles a los caractéres en mayúsucula y minúscula\n",
    "4. El nombre de una variable no puede ser una palabra reservada de python.\n",
    "\n",
    "Aunque hay mucha libertad encuanto a el nombramiento de una variable, la guía de estilo para código Python recomienda que las variables se escriban en minúsculas, en inglés, con la menor cantidad de caracteres posible y que reflejen una idea de su contenido. "
   ]
  },
  {
   "cell_type": "markdown",
   "metadata": {},
   "source": [
    "**Ejercicio** \n",
    "\n",
    "Una de las ventajas de la filosofía de síntaxis de Python es que esta diseñada para ser comprensible, aún cuando no conozcamos algunas funciones o librerías. Analiza el siguiente código, antes de ejecutarlo trata de responder estas preguntas, después verifica tus respuestas:\n",
    " 1. ¿Por qué es necesario importar la librería sys?\n",
    " 2. La variable python_version, ¿es de tipo string?\n",
    " 3. ¿Qué hace el operador `+`dentro de la función `print`?\n",
    " 4. ¿Qué hace esta rutina?\n",
    "    "
   ]
  },
  {
   "cell_type": "code",
   "execution_count": 5,
   "metadata": {},
   "outputs": [
    {
     "name": "stdout",
     "output_type": "stream",
     "text": [
      "Python's version: 3\n"
     ]
    }
   ],
   "source": [
    "# La expresión import sirve para llamar librerías que no estan inluidas en el sistema base\n",
    "import sys \n",
    "\n",
    "python_version = sys.version_info[0]\n",
    "print(\"Python's version: \" + str(python_version))"
   ]
  },
  {
   "cell_type": "markdown",
   "metadata": {},
   "source": [
    "## Apéndice Operadores básicos\n",
    "\n",
    "1. Operadores aritméticos\n",
    "        1.1 Asignación `a = b` \n",
    "        1.2 Suma `a + b`\n",
    "        1.3 Resta `a - b`\n",
    "        1.4 Multiplicación `a * b`\n",
    "        1.5 División `a / b`\n",
    "        1.6 División entera `//`\n",
    "        1.7 Módulo `a % b`\n",
    "        1.8 Potenciación `a**b`\n",
    "2. Operaciones Lógicas por bit\n",
    "        2.1 And `123 & 210`\n",
    "        2.2 Or `123 | 210`\n",
    "        2.3 Negación `~ 210`\n",
    "        2.4 Xor `123 ^ 210`\n",
    "3. Operaciones lógicas\n",
    "        3.1 And `True and False`\n",
    "        3.2 Or `True or False`\n",
    "        3.3 Negación `not False`\n",
    "3. Operaciones unarias\n",
    "        3.1 Negativo `-a`\n",
    "4. Operaciones de comparación\n",
    "        4.1 Mayor que `a > b`\n",
    "        4.2 Menor que `a < b`\n",
    "        4.3 Mayor o igual `a >= b`\n",
    "        4.4 Menor o igual `a <= b`\n",
    "        4.5 Identico a `a == b`\n",
    "        4.6 Distinto a `a != b`\n",
    "5. Operadores de modificación\n",
    "        5.1 Incremento `x += a`\n",
    "        5.2 Decremento `x -=a`\n",
    "        5.3 Incremento geométrico `x *= a`\n",
    "        5.4 Decemento geométrico `x /= a`\n",
    "6. Operadores de strings\n",
    "        6.1 Concatenciaón `\"A string\" + \"another string\"`\n",
    "        6.2 Replicación `\"A string\" * 2` \n",
    "        \n",
    "En la lista anterior, los operadores aritméticos fueron escritos de menor a mayor jerarquía."
   ]
  },
  {
   "cell_type": "code",
   "execution_count": null,
   "metadata": {},
   "outputs": [],
   "source": []
  }
 ],
 "metadata": {
  "kernelspec": {
   "display_name": "Python 3",
   "language": "python",
   "name": "python3"
  },
  "language_info": {
   "codemirror_mode": {
    "name": "ipython",
    "version": 3
   },
   "file_extension": ".py",
   "mimetype": "text/x-python",
   "name": "python",
   "nbconvert_exporter": "python",
   "pygments_lexer": "ipython3",
   "version": "3.8.3"
  }
 },
 "nbformat": 4,
 "nbformat_minor": 4
}
